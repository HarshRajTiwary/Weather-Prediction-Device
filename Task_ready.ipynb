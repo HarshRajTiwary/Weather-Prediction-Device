{
 "cells": [
  {
   "cell_type": "markdown",
   "id": "hrPMSSu2taoh",
   "metadata": {
    "id": "hrPMSSu2taoh"
   },
   "source": [
    "# **Introduction to Machine Learning with Jupyter Notebooks**\n",
    "Welcome to the world of Machine Learning. This instructional materials will guide you to learn machine learning using Jupyter Notebook."
   ]
  },
  {
   "cell_type": "markdown",
   "id": "hmsg3MWmvNjq",
   "metadata": {
    "id": "hmsg3MWmvNjq",
    "jp-MarkdownHeadingCollapsed": true
   },
   "source": [
    "## **Getting Started**\n",
    "### **1. Setting Up Your Environment**\n",
    "Before we go deep into machine learning, you'll need to set up your environment.\n",
    "follow these steps to set up your environment.\n",
    "\n",
    "**Install Jupyter Notebook**:\n",
    "\n",
    "Install the classic Jupyter Notebook by writting the below command in your terminal:\n",
    "\n",
    "`pip install notebook`\n",
    "\n",
    "### **2. Launching Jupyter Notebook**\n",
    "\n",
    "To run the notebook:\n",
    "\n",
    "`jupyter notebook`\n",
    "\n",
    "or if this doesnt work, write this insteade.\n",
    "\n",
    "`python -m notebook`"
   ]
  },
  {
   "cell_type": "markdown",
   "id": "1z9COW_-v4_2",
   "metadata": {
    "id": "1z9COW_-v4_2",
    "jp-MarkdownHeadingCollapsed": true
   },
   "source": [
    "## **Basics of Machain Learning (ML)**\n",
    "### **What is Machine Learning?**\n",
    "It is a subset of Artificial Inteligence (AI). It focuses on making a model capable of learning from data to make predictions or decisions.\n",
    "\n",
    "### **Types of Machaine Learning:**\n",
    "1. *Supervised Learning*: Learning from labeled data (e.g., classification, regression).\n",
    "2. *Unsupervised Learning*: Finding patterns in unlabeled data (e.g., clustering, dimensionality reduction).\n",
    "3. *Reinforcement Learning*: Learning through rewards and punishments."
   ]
  },
  {
   "cell_type": "markdown",
   "id": "07hppMV2tpwd",
   "metadata": {
    "id": "07hppMV2tpwd"
   },
   "source": [
    "## **Building your first ML Model**"
   ]
  },
  {
   "cell_type": "markdown",
   "id": "wUZ2m_AbAsvg",
   "metadata": {
    "id": "wUZ2m_AbAsvg"
   },
   "source": [
    "**Task**: Develop a weather forecasting model capable of predicting\n",
    "weather conditions, including sunny, cloudy, rainy, foggy, etc."
   ]
  },
  {
   "cell_type": "markdown",
   "id": "Vm2gWCn5C-0l",
   "metadata": {
    "id": "Vm2gWCn5C-0l"
   },
   "source": [
    "**Objective**:\n",
    "Develop instructional materials for students to learn machine learning using\n",
    "Jupyter Notebook and other ML tools. Use a weather forecasting model as an\n",
    "example, incorporating TensorFlow and a Decision Tree Classifier. The aim is\n",
    "to accurately predict weather conditions and display predictions such as\n",
    "sunny, cloudy, rainy, and foggy.\n"
   ]
  },
  {
   "cell_type": "markdown",
   "id": "IBzg9QTEDEeI",
   "metadata": {
    "id": "IBzg9QTEDEeI"
   },
   "source": [
    "**Tools and Technologies**:\n",
    "1. *Jupyter Notebook*: For data preprocessing, model development, and\n",
    "training.\n",
    "2. *Programming Language*: Python - Widely used for its simplicity,\n",
    "extensive libraries, and ecosystem support.\n",
    "3. *TensorFlow*: For building and training the weather prediction model.\n",
    "4. *NumPy*: For numerical computations and data manipulation.\n",
    "5. *Pandas*: For data manipulation and analysis.\n"
   ]
  },
  {
   "cell_type": "markdown",
   "id": "lVtdjpVNDQdj",
   "metadata": {
    "id": "lVtdjpVNDQdj"
   },
   "source": [
    "## **Task Steps:**"
   ]
  },
  {
   "cell_type": "markdown",
   "id": "GmqCkoG9Juf5",
   "metadata": {
    "id": "GmqCkoG9Juf5"
   },
   "source": [
    "### **1. Import libraries:**\n",
    "We will import the necessary libraries first"
   ]
  },
  {
   "cell_type": "code",
   "execution_count": 1,
   "id": "cxf2RSmXJhoG",
   "metadata": {
    "id": "cxf2RSmXJhoG"
   },
   "outputs": [],
   "source": [
    "import pandas as pd     # for data acquisition\n",
    "import numpy as np      # for data processing\n",
    "import tensorflow as tf # for making the model"
   ]
  },
  {
   "cell_type": "code",
   "execution_count": 2,
   "id": "966398fd-64a6-4e87-a59f-7f7efe754613",
   "metadata": {
    "id": "966398fd-64a6-4e87-a59f-7f7efe754613"
   },
   "outputs": [
    {
     "ename": "ModuleNotFoundError",
     "evalue": "No module named 'micromlgen'",
     "output_type": "error",
     "traceback": [
      "\u001b[1;31m---------------------------------------------------------------------------\u001b[0m",
      "\u001b[1;31mModuleNotFoundError\u001b[0m                       Traceback (most recent call last)",
      "Cell \u001b[1;32mIn[2], line 3\u001b[0m\n\u001b[0;32m      1\u001b[0m \u001b[38;5;28;01mfrom\u001b[39;00m \u001b[38;5;21;01msklearn\u001b[39;00m\u001b[38;5;21;01m.\u001b[39;00m\u001b[38;5;21;01mmodel_selection\u001b[39;00m \u001b[38;5;28;01mimport\u001b[39;00m train_test_split\n\u001b[0;32m      2\u001b[0m \u001b[38;5;28;01mfrom\u001b[39;00m \u001b[38;5;21;01msklearn\u001b[39;00m\u001b[38;5;21;01m.\u001b[39;00m\u001b[38;5;21;01mtree\u001b[39;00m \u001b[38;5;28;01mimport\u001b[39;00m DecisionTreeClassifier\n\u001b[1;32m----> 3\u001b[0m \u001b[38;5;28;01mfrom\u001b[39;00m \u001b[38;5;21;01mmicromlgen\u001b[39;00m \u001b[38;5;28;01mimport\u001b[39;00m port\n\u001b[0;32m      4\u001b[0m \u001b[38;5;28;01mfrom\u001b[39;00m \u001b[38;5;21;01msklearn\u001b[39;00m \u001b[38;5;28;01mimport\u001b[39;00m metrics\n\u001b[0;32m      5\u001b[0m \u001b[38;5;28;01mimport\u001b[39;00m \u001b[38;5;21;01mseaborn\u001b[39;00m \u001b[38;5;28;01mas\u001b[39;00m \u001b[38;5;21;01msns\u001b[39;00m\n",
      "\u001b[1;31mModuleNotFoundError\u001b[0m: No module named 'micromlgen'"
     ]
    }
   ],
   "source": [
    "from sklearn.model_selection import train_test_split\n",
    "from sklearn.tree import DecisionTreeClassifier\n",
    "from micromlgen import port\n",
    "from sklearn import metrics\n",
    "import seaborn as sns\n",
    "import warnings\n",
    "warnings.filterwarnings('ignore')"
   ]
  },
  {
   "cell_type": "markdown",
   "id": "da6EwHUXBLr2",
   "metadata": {
    "id": "da6EwHUXBLr2"
   },
   "source": [
    "### **2. Dataset Acquisition:**\n",
    "We will use the provided rainfall dataset for this project.\n"
   ]
  },
  {
   "cell_type": "code",
   "execution_count": null,
   "id": "26760d37-0b57-41dc-888b-4f96562a4296",
   "metadata": {
    "id": "26760d37-0b57-41dc-888b-4f96562a4296"
   },
   "outputs": [],
   "source": [
    "data = pd.read_csv('rainfall.csv')  # Load the dataset"
   ]
  },
  {
   "cell_type": "code",
   "execution_count": null,
   "id": "b2mNI5xxLvSF",
   "metadata": {
    "id": "b2mNI5xxLvSF",
    "outputId": "d6c84b59-eee8-4407-a53d-538398352830"
   },
   "outputs": [
    {
     "data": {
      "text/html": [
       "<div>\n",
       "<style scoped>\n",
       "    .dataframe tbody tr th:only-of-type {\n",
       "        vertical-align: middle;\n",
       "    }\n",
       "\n",
       "    .dataframe tbody tr th {\n",
       "        vertical-align: top;\n",
       "    }\n",
       "\n",
       "    .dataframe thead th {\n",
       "        text-align: right;\n",
       "    }\n",
       "</style>\n",
       "<table border=\"1\" class=\"dataframe\">\n",
       "  <thead>\n",
       "    <tr style=\"text-align: right;\">\n",
       "      <th></th>\n",
       "      <th>datetime</th>\n",
       "      <th>temp</th>\n",
       "      <th>dew</th>\n",
       "      <th>humidity</th>\n",
       "      <th>sealevelpressure</th>\n",
       "      <th>winddir</th>\n",
       "      <th>solarradiation</th>\n",
       "      <th>windspeed</th>\n",
       "      <th>precipprob</th>\n",
       "      <th>preciptype</th>\n",
       "    </tr>\n",
       "  </thead>\n",
       "  <tbody>\n",
       "    <tr>\n",
       "      <th>0</th>\n",
       "      <td>01-01-2016</td>\n",
       "      <td>28.4</td>\n",
       "      <td>11.9</td>\n",
       "      <td>37.8</td>\n",
       "      <td>1016.4</td>\n",
       "      <td>147.5</td>\n",
       "      <td>216.1</td>\n",
       "      <td>16.6</td>\n",
       "      <td>0</td>\n",
       "      <td>0</td>\n",
       "    </tr>\n",
       "    <tr>\n",
       "      <th>1</th>\n",
       "      <td>02-01-2016</td>\n",
       "      <td>26.8</td>\n",
       "      <td>13.0</td>\n",
       "      <td>44.8</td>\n",
       "      <td>1017.2</td>\n",
       "      <td>110.3</td>\n",
       "      <td>215.7</td>\n",
       "      <td>16.6</td>\n",
       "      <td>0</td>\n",
       "      <td>0</td>\n",
       "    </tr>\n",
       "    <tr>\n",
       "      <th>2</th>\n",
       "      <td>03-01-2016</td>\n",
       "      <td>25.5</td>\n",
       "      <td>14.6</td>\n",
       "      <td>52.8</td>\n",
       "      <td>1015.7</td>\n",
       "      <td>145.3</td>\n",
       "      <td>221.1</td>\n",
       "      <td>18.4</td>\n",
       "      <td>0</td>\n",
       "      <td>0</td>\n",
       "    </tr>\n",
       "    <tr>\n",
       "      <th>3</th>\n",
       "      <td>04-01-2016</td>\n",
       "      <td>26.4</td>\n",
       "      <td>13.1</td>\n",
       "      <td>46.6</td>\n",
       "      <td>1015.3</td>\n",
       "      <td>126.9</td>\n",
       "      <td>216.2</td>\n",
       "      <td>16.6</td>\n",
       "      <td>0</td>\n",
       "      <td>0</td>\n",
       "    </tr>\n",
       "    <tr>\n",
       "      <th>4</th>\n",
       "      <td>05-01-2016</td>\n",
       "      <td>27.1</td>\n",
       "      <td>13.5</td>\n",
       "      <td>44.9</td>\n",
       "      <td>1014.4</td>\n",
       "      <td>125.5</td>\n",
       "      <td>208.1</td>\n",
       "      <td>16.6</td>\n",
       "      <td>0</td>\n",
       "      <td>0</td>\n",
       "    </tr>\n",
       "  </tbody>\n",
       "</table>\n",
       "</div>"
      ],
      "text/plain": [
       "     datetime  temp   dew  humidity  sealevelpressure  winddir  \\\n",
       "0  01-01-2016  28.4  11.9      37.8            1016.4    147.5   \n",
       "1  02-01-2016  26.8  13.0      44.8            1017.2    110.3   \n",
       "2  03-01-2016  25.5  14.6      52.8            1015.7    145.3   \n",
       "3  04-01-2016  26.4  13.1      46.6            1015.3    126.9   \n",
       "4  05-01-2016  27.1  13.5      44.9            1014.4    125.5   \n",
       "\n",
       "   solarradiation  windspeed  precipprob  preciptype  \n",
       "0           216.1       16.6           0           0  \n",
       "1           215.7       16.6           0           0  \n",
       "2           221.1       18.4           0           0  \n",
       "3           216.2       16.6           0           0  \n",
       "4           208.1       16.6           0           0  "
      ]
     },
     "execution_count": 4,
     "metadata": {},
     "output_type": "execute_result"
    }
   ],
   "source": [
    "data.head(5)  # Display the first few rows of the dataset"
   ]
  },
  {
   "cell_type": "markdown",
   "id": "e3d9a693-bdcd-42f0-8b99-3691ce96af7f",
   "metadata": {
    "id": "e3d9a693-bdcd-42f0-8b99-3691ce96af7f"
   },
   "source": [
    "## Heat Index function"
   ]
  },
  {
   "cell_type": "code",
   "execution_count": null,
   "id": "ff7a52c2-7d93-4a21-bab4-bb3c230f67ab",
   "metadata": {
    "id": "ff7a52c2-7d93-4a21-bab4-bb3c230f67ab"
   },
   "outputs": [],
   "source": [
    "def calculate_heat_index(row):\n",
    "    temperature = row['temp']\n",
    "    humidity = row['humidity']\n",
    "    # Coefficients for the heat index formula\n",
    "    c1 = -42.379\n",
    "    c2 = 2.04901523\n",
    "    c3 = 10.14333127\n",
    "    c4 = -0.22475541\n",
    "    c5 = -6.83783e-3\n",
    "    c6 = -5.481717e-2\n",
    "    c7 = 1.22874e-3\n",
    "    c8 = 8.5282e-4\n",
    "    c9 = -1.99e-6\n",
    "\n",
    "    # Calculate the heat index\n",
    "    heat_index = (c1 + (c2 * temperature) + (c3 * humidity) + (c4 * temperature * humidity) +\n",
    "                  (c5 * temperature**2) + (c6 * humidity**2) +\n",
    "                  (c7 * temperature**2 * humidity) + (c8 * temperature * humidity**2) +\n",
    "                  (c9 * temperature**2 * humidity**2))\n",
    "\n",
    "    # Adjustments for specific conditions\n",
    "    if humidity < 13 and (80 <= temperature <= 112):\n",
    "        adjustment = ((13 - humidity) / 4) * ((17 - abs(temperature - 95.0)) / 17)**0.5\n",
    "        heat_index -= adjustment\n",
    "    elif humidity > 85 and (80 <= temperature <= 87):\n",
    "        adjustment = ((humidity - 85) / 10) * ((87 - temperature) / 5)\n",
    "        heat_index += adjustment\n",
    "\n",
    "    return heat_index\n"
   ]
  },
  {
   "cell_type": "code",
   "execution_count": null,
   "id": "7acdb25d-d6fa-43f5-9293-aba2a66d3fde",
   "metadata": {
    "id": "7acdb25d-d6fa-43f5-9293-aba2a66d3fde"
   },
   "outputs": [],
   "source": [
    "# Apply the function to the DataFrame to create the 'heat_index' column\n",
    "data['heat_index'] = data.apply(calculate_heat_index, axis=1)"
   ]
  },
  {
   "cell_type": "code",
   "execution_count": null,
   "id": "bfe276d7-0ea8-41e8-962d-94075819d91a",
   "metadata": {
    "id": "bfe276d7-0ea8-41e8-962d-94075819d91a",
    "outputId": "761503d1-a2f5-49a9-8039-25ff2abf318c"
   },
   "outputs": [
    {
     "name": "stdout",
     "output_type": "stream",
     "text": [
      "      datetime  temp   dew  humidity  sealevelpressure  winddir  \\\n",
      "0   01-01-2016  28.4  11.9      37.8            1016.4    147.5   \n",
      "1   02-01-2016  26.8  13.0      44.8            1017.2    110.3   \n",
      "2   03-01-2016  25.5  14.6      52.8            1015.7    145.3   \n",
      "3   04-01-2016  26.4  13.1      46.6            1015.3    126.9   \n",
      "4   05-01-2016  27.1  13.5      44.9            1014.4    125.5   \n",
      "5   06-01-2016  26.9  14.3      48.2            1014.2    110.2   \n",
      "6   07-01-2016  26.1  17.0      58.0            1015.1    149.4   \n",
      "7   08-01-2016  26.6  16.5      55.2            1015.4    157.7   \n",
      "8   09-01-2016  26.3  13.5      47.6            1013.8    117.5   \n",
      "9   10-01-2016  26.0  12.5      45.3            1014.2    124.7   \n",
      "10  11-01-2016  26.1  14.6      50.4            1014.3    153.7   \n",
      "11  12-01-2016  25.1  17.5      64.5            1013.1    200.7   \n",
      "12  13-01-2016  24.6  17.0      64.0            1012.5    195.6   \n",
      "13  14-01-2016  23.9  16.5      64.2            1012.6    158.4   \n",
      "14  15-01-2016  23.6  16.3      64.8            1012.3    193.9   \n",
      "15  16-01-2016  24.1  15.7      60.7            1011.8    162.5   \n",
      "16  17-01-2016  24.0  14.7      58.3            1011.6    154.6   \n",
      "17  18-01-2016  23.7  14.4      58.2            1011.2    141.4   \n",
      "18  19-01-2016  23.5  10.3      45.8            1012.1    180.5   \n",
      "19  20-01-2016  23.2   8.6      41.5            1014.0    155.7   \n",
      "\n",
      "    solarradiation  windspeed  precipprob  preciptype  heat_index  \n",
      "0            216.1       16.6           0           0  143.886492  \n",
      "1            215.7       16.6           0           0  164.714809  \n",
      "2            221.1       18.4           0           0  184.766321  \n",
      "3            216.2       16.6           0           0  169.873735  \n",
      "4            208.1       16.6           0           0  163.735238  \n",
      "5            200.8       14.8           0           0  170.741030  \n",
      "6            189.9       15.8           0           0  188.981224  \n",
      "7            185.0       13.0           0           0  182.978596  \n",
      "8            203.1       16.6           0           0  172.189610  \n",
      "9            203.7       16.6           0           0  168.927795  \n",
      "10           212.6       24.1           0           0  178.052817  \n",
      "11           201.9       16.6           0           0  200.835604  \n",
      "12           211.4       16.6           0           0  203.264168  \n",
      "13           209.6       25.9           0           0  207.475417  \n",
      "14           210.8       16.6           0           0  209.768439  \n",
      "15           201.5       13.0         100           1  202.757773  \n",
      "16           187.2       16.6           0           0  200.353209  \n",
      "17           220.5       16.6           0           0  201.834913  \n",
      "18           228.0       20.5           0           0  180.482995  \n",
      "19           239.6       32.4           0           0  171.299693  \n"
     ]
    }
   ],
   "source": [
    "# Display the updated DataFrame\n",
    "print(data.head(20))"
   ]
  },
  {
   "cell_type": "code",
   "execution_count": null,
   "id": "03e1d982-17ba-4819-a17e-df440271ef2b",
   "metadata": {
    "id": "03e1d982-17ba-4819-a17e-df440271ef2b"
   },
   "outputs": [],
   "source": [
    "def determine_weather(row):\n",
    "    temp_c = row['temp']\n",
    "    humidity = row['humidity']\n",
    "    heat_index_c = row['heat_index']\n",
    "    # Determine weather condition\n",
    "    if humidity >= 80 and temp_c < 24:\n",
    "        weather = 1 # \"Foggy\"\n",
    "    elif humidity >= 80 and heat_index_c > temp_c:\n",
    "        weather = 2 # \"Rainy\"\n",
    "    elif 50 <= humidity < 80:\n",
    "        weather = 3 # \"Cloudy\"\n",
    "    else:\n",
    "        weather = 4 # \"Sunny\"\n",
    "\n",
    "    return weather"
   ]
  },
  {
   "cell_type": "code",
   "execution_count": null,
   "id": "a8b74b68-eb53-4b24-9857-afb086227634",
   "metadata": {
    "id": "a8b74b68-eb53-4b24-9857-afb086227634",
    "outputId": "edfc8c2b-76ff-4cb4-bb20-d4119122b2f3"
   },
   "outputs": [
    {
     "name": "stdout",
     "output_type": "stream",
     "text": [
      "      datetime  temp   dew  humidity  sealevelpressure  winddir  \\\n",
      "0   01-01-2016  28.4  11.9      37.8            1016.4    147.5   \n",
      "1   02-01-2016  26.8  13.0      44.8            1017.2    110.3   \n",
      "2   03-01-2016  25.5  14.6      52.8            1015.7    145.3   \n",
      "3   04-01-2016  26.4  13.1      46.6            1015.3    126.9   \n",
      "4   05-01-2016  27.1  13.5      44.9            1014.4    125.5   \n",
      "5   06-01-2016  26.9  14.3      48.2            1014.2    110.2   \n",
      "6   07-01-2016  26.1  17.0      58.0            1015.1    149.4   \n",
      "7   08-01-2016  26.6  16.5      55.2            1015.4    157.7   \n",
      "8   09-01-2016  26.3  13.5      47.6            1013.8    117.5   \n",
      "9   10-01-2016  26.0  12.5      45.3            1014.2    124.7   \n",
      "10  11-01-2016  26.1  14.6      50.4            1014.3    153.7   \n",
      "11  12-01-2016  25.1  17.5      64.5            1013.1    200.7   \n",
      "12  13-01-2016  24.6  17.0      64.0            1012.5    195.6   \n",
      "13  14-01-2016  23.9  16.5      64.2            1012.6    158.4   \n",
      "14  15-01-2016  23.6  16.3      64.8            1012.3    193.9   \n",
      "15  16-01-2016  24.1  15.7      60.7            1011.8    162.5   \n",
      "16  17-01-2016  24.0  14.7      58.3            1011.6    154.6   \n",
      "17  18-01-2016  23.7  14.4      58.2            1011.2    141.4   \n",
      "18  19-01-2016  23.5  10.3      45.8            1012.1    180.5   \n",
      "19  20-01-2016  23.2   8.6      41.5            1014.0    155.7   \n",
      "\n",
      "    solarradiation  windspeed  precipprob  preciptype  heat_index  weather  \n",
      "0            216.1       16.6           0           0  143.886492        4  \n",
      "1            215.7       16.6           0           0  164.714809        4  \n",
      "2            221.1       18.4           0           0  184.766321        3  \n",
      "3            216.2       16.6           0           0  169.873735        4  \n",
      "4            208.1       16.6           0           0  163.735238        4  \n",
      "5            200.8       14.8           0           0  170.741030        4  \n",
      "6            189.9       15.8           0           0  188.981224        3  \n",
      "7            185.0       13.0           0           0  182.978596        3  \n",
      "8            203.1       16.6           0           0  172.189610        4  \n",
      "9            203.7       16.6           0           0  168.927795        4  \n",
      "10           212.6       24.1           0           0  178.052817        3  \n",
      "11           201.9       16.6           0           0  200.835604        3  \n",
      "12           211.4       16.6           0           0  203.264168        3  \n",
      "13           209.6       25.9           0           0  207.475417        3  \n",
      "14           210.8       16.6           0           0  209.768439        3  \n",
      "15           201.5       13.0         100           1  202.757773        3  \n",
      "16           187.2       16.6           0           0  200.353209        3  \n",
      "17           220.5       16.6           0           0  201.834913        3  \n",
      "18           228.0       20.5           0           0  180.482995        4  \n",
      "19           239.6       32.4           0           0  171.299693        4  \n"
     ]
    }
   ],
   "source": [
    "# Apply the function to the DataFrame to create the 'weather' column\n",
    "data['weather'] = data.apply(determine_weather, axis=1)\n",
    "\n",
    "# Display the updated DataFrame\n",
    "print(data.head(20))"
   ]
  },
  {
   "cell_type": "markdown",
   "id": "4jcYMC2SERMm",
   "metadata": {
    "id": "4jcYMC2SERMm"
   },
   "source": [
    "### **Data Preprocessing & Visualization**:\n",
    "\n",
    "Handle missing values and encode categorical variables."
   ]
  },
  {
   "cell_type": "code",
   "execution_count": null,
   "id": "wbtz2oV9KY5_",
   "metadata": {
    "id": "wbtz2oV9KY5_"
   },
   "outputs": [],
   "source": [
    "# Dataset Preprocessing\n",
    "X = data[['temp', 'humidity', 'heat_index']] #features\n",
    "y = data['weather'] #target\n"
   ]
  },
  {
   "cell_type": "code",
   "execution_count": null,
   "id": "e2bddac5-4d2c-4199-b63c-011ae9bce559",
   "metadata": {
    "id": "e2bddac5-4d2c-4199-b63c-011ae9bce559",
    "outputId": "e6c41515-0112-4804-932b-c5c4ef270289"
   },
   "outputs": [
    {
     "data": {
      "text/plain": [
       "<Axes: >"
      ]
     },
     "execution_count": 11,
     "metadata": {},
     "output_type": "execute_result"
    },
    {
     "data": {
      "image/png": "[encoded data removed]",
      "text/plain": [
       "<Figure size 640x480 with 1 Axes>"
      ]
     },
     "metadata": {},
     "output_type": "display_data"
    }
   ],
   "source": [
    "X[['temp']].plot()  # plot of temperature"
   ]
  },
  {
   "cell_type": "code",
   "execution_count": null,
   "id": "a2b2272a-b25c-4954-8d34-5797f053a0fa",
   "metadata": {
    "id": "a2b2272a-b25c-4954-8d34-5797f053a0fa",
    "outputId": "c856913c-0b1a-48de-dcfc-c3acef90052c"
   },
   "outputs": [
    {
     "data": {
      "text/plain": [
       "<Axes: >"
      ]
     },
     "execution_count": 12,
     "metadata": {},
     "output_type": "execute_result"
    },
    {
     "data": {
      "image/png": "[encoded data removed]",
      "text/plain": [
       "<Figure size 640x480 with 1 Axes>"
      ]
     },
     "metadata": {},
     "output_type": "display_data"
    }
   ],
   "source": [
    "X[['humidity']].plot() # plot of humidity"
   ]
  },
  {
   "cell_type": "code",
   "execution_count": null,
   "id": "a92df9c2-60f8-43f8-9c41-f81772755b63",
   "metadata": {
    "id": "a92df9c2-60f8-43f8-9c41-f81772755b63",
    "outputId": "f2dae6b2-af90-4c51-d7dd-de82662702e6"
   },
   "outputs": [
    {
     "data": {
      "text/plain": [
       "<Axes: >"
      ]
     },
     "execution_count": 13,
     "metadata": {},
     "output_type": "execute_result"
    },
    {
     "data": {
      "image/png": "[encoded data removed]",
      "text/plain": [
       "<Figure size 640x480 with 1 Axes>"
      ]
     },
     "metadata": {},
     "output_type": "display_data"
    }
   ],
   "source": [
    "X[['heat_index']].plot()  # plot of heat index"
   ]
  },
  {
   "cell_type": "code",
   "execution_count": null,
   "id": "7d1bd566-ef1c-4ddb-9d46-9863d413ac9a",
   "metadata": {
    "id": "7d1bd566-ef1c-4ddb-9d46-9863d413ac9a",
    "outputId": "99cae568-5bcd-48e1-8c4e-93e5ab359cf1"
   },
   "outputs": [
    {
     "data": {
      "text/plain": [
       "datetime            1781\n",
       "temp                 107\n",
       "dew                  184\n",
       "humidity             546\n",
       "sealevelpressure     177\n",
       "winddir             1089\n",
       "solarradiation      1194\n",
       "windspeed            172\n",
       "precipprob             2\n",
       "preciptype             2\n",
       "heat_index          1708\n",
       "weather                4\n",
       "dtype: int64"
      ]
     },
     "execution_count": 14,
     "metadata": {},
     "output_type": "execute_result"
    }
   ],
   "source": [
    "data.nunique()  # finding for the count of unique values"
   ]
  },
  {
   "cell_type": "code",
   "execution_count": null,
   "id": "5e5828fb-19f6-407d-9b77-790da197a092",
   "metadata": {
    "id": "5e5828fb-19f6-407d-9b77-790da197a092",
    "outputId": "bed02608-b45d-4664-e546-6ce46909726f"
   },
   "outputs": [
    {
     "data": {
      "text/plain": [
       "(1781, 12)"
      ]
     },
     "execution_count": 15,
     "metadata": {},
     "output_type": "execute_result"
    }
   ],
   "source": [
    "data.shape # gives the shape of data"
   ]
  },
  {
   "cell_type": "code",
   "execution_count": null,
   "id": "5f27f2c0-c9ef-4a15-afe9-749a52866eb8",
   "metadata": {
    "id": "5f27f2c0-c9ef-4a15-afe9-749a52866eb8",
    "outputId": "e383aa3b-b26f-43d2-be16-dad365b9de4c"
   },
   "outputs": [
    {
     "data": {
      "text/plain": [
       "Index(['datetime', 'temp', 'dew', 'humidity', 'sealevelpressure', 'winddir',\n",
       "       'solarradiation', 'windspeed', 'precipprob', 'preciptype', 'heat_index',\n",
       "       'weather'],\n",
       "      dtype='object')"
      ]
     },
     "execution_count": 16,
     "metadata": {},
     "output_type": "execute_result"
    }
   ],
   "source": [
    "data.columns # gives the columns of data"
   ]
  },
  {
   "cell_type": "code",
   "execution_count": null,
   "id": "9e77009e-deaf-4457-a240-13d5813950b0",
   "metadata": {
    "id": "9e77009e-deaf-4457-a240-13d5813950b0",
    "outputId": "d788a19d-bef3-44ab-a2ab-afba796c3532"
   },
   "outputs": [
    {
     "name": "stdout",
     "output_type": "stream",
     "text": [
      "<class 'pandas.core.frame.DataFrame'>\n",
      "RangeIndex: 1781 entries, 0 to 1780\n",
      "Data columns (total 12 columns):\n",
      " #   Column            Non-Null Count  Dtype  \n",
      "---  ------            --------------  -----  \n",
      " 0   datetime          1781 non-null   object \n",
      " 1   temp              1781 non-null   float64\n",
      " 2   dew               1781 non-null   float64\n",
      " 3   humidity          1781 non-null   float64\n",
      " 4   sealevelpressure  1781 non-null   float64\n",
      " 5   winddir           1781 non-null   float64\n",
      " 6   solarradiation    1781 non-null   float64\n",
      " 7   windspeed         1781 non-null   float64\n",
      " 8   precipprob        1781 non-null   int64  \n",
      " 9   preciptype        1781 non-null   int64  \n",
      " 10  heat_index        1781 non-null   float64\n",
      " 11  weather           1781 non-null   int64  \n",
      "dtypes: float64(8), int64(3), object(1)\n",
      "memory usage: 167.1+ KB\n"
     ]
    }
   ],
   "source": [
    "data.info() # All information about data"
   ]
  },
  {
   "cell_type": "code",
   "execution_count": null,
   "id": "27265752-7453-4e5d-b26b-3012eb44e0c2",
   "metadata": {
    "id": "27265752-7453-4e5d-b26b-3012eb44e0c2"
   },
   "outputs": [],
   "source": [
    "data= data[[\"temp\",\"humidity\",\"heat_index\",\"weather\"]] # taking only the required data"
   ]
  },
  {
   "cell_type": "code",
   "execution_count": null,
   "id": "9fc570ff-263a-40b4-a651-b0e94a2d3e9a",
   "metadata": {
    "id": "9fc570ff-263a-40b4-a651-b0e94a2d3e9a",
    "outputId": "abd91138-713c-4cce-9595-77226f121126"
   },
   "outputs": [
    {
     "data": {
      "text/html": [
       "<div>\n",
       "<style scoped>\n",
       "    .dataframe tbody tr th:only-of-type {\n",
       "        vertical-align: middle;\n",
       "    }\n",
       "\n",
       "    .dataframe tbody tr th {\n",
       "        vertical-align: top;\n",
       "    }\n",
       "\n",
       "    .dataframe thead th {\n",
       "        text-align: right;\n",
       "    }\n",
       "</style>\n",
       "<table border=\"1\" class=\"dataframe\">\n",
       "  <thead>\n",
       "    <tr style=\"text-align: right;\">\n",
       "      <th></th>\n",
       "      <th>temp</th>\n",
       "      <th>humidity</th>\n",
       "      <th>heat_index</th>\n",
       "      <th>weather</th>\n",
       "    </tr>\n",
       "  </thead>\n",
       "  <tbody>\n",
       "    <tr>\n",
       "      <th>0</th>\n",
       "      <td>28.4</td>\n",
       "      <td>37.8</td>\n",
       "      <td>143.886492</td>\n",
       "      <td>4</td>\n",
       "    </tr>\n",
       "    <tr>\n",
       "      <th>1</th>\n",
       "      <td>26.8</td>\n",
       "      <td>44.8</td>\n",
       "      <td>164.714809</td>\n",
       "      <td>4</td>\n",
       "    </tr>\n",
       "    <tr>\n",
       "      <th>2</th>\n",
       "      <td>25.5</td>\n",
       "      <td>52.8</td>\n",
       "      <td>184.766321</td>\n",
       "      <td>3</td>\n",
       "    </tr>\n",
       "    <tr>\n",
       "      <th>3</th>\n",
       "      <td>26.4</td>\n",
       "      <td>46.6</td>\n",
       "      <td>169.873735</td>\n",
       "      <td>4</td>\n",
       "    </tr>\n",
       "    <tr>\n",
       "      <th>4</th>\n",
       "      <td>27.1</td>\n",
       "      <td>44.9</td>\n",
       "      <td>163.735238</td>\n",
       "      <td>4</td>\n",
       "    </tr>\n",
       "  </tbody>\n",
       "</table>\n",
       "</div>"
      ],
      "text/plain": [
       "   temp  humidity  heat_index  weather\n",
       "0  28.4      37.8  143.886492        4\n",
       "1  26.8      44.8  164.714809        4\n",
       "2  25.5      52.8  184.766321        3\n",
       "3  26.4      46.6  169.873735        4\n",
       "4  27.1      44.9  163.735238        4"
      ]
     },
     "execution_count": 19,
     "metadata": {},
     "output_type": "execute_result"
    }
   ],
   "source": [
    "data.head()  # shows some data from starting"
   ]
  },
  {
   "cell_type": "code",
   "execution_count": null,
   "id": "757db057-87e1-4b0d-b6db-8d1314fea1ff",
   "metadata": {
    "id": "757db057-87e1-4b0d-b6db-8d1314fea1ff",
    "outputId": "5e3801ec-f31e-489e-b350-7a9fafee2778"
   },
   "outputs": [
    {
     "name": "stdout",
     "output_type": "stream",
     "text": [
      "<class 'pandas.core.frame.DataFrame'>\n",
      "RangeIndex: 1781 entries, 0 to 1780\n",
      "Data columns (total 4 columns):\n",
      " #   Column      Non-Null Count  Dtype  \n",
      "---  ------      --------------  -----  \n",
      " 0   temp        1781 non-null   float64\n",
      " 1   humidity    1781 non-null   float64\n",
      " 2   heat_index  1781 non-null   float64\n",
      " 3   weather     1781 non-null   int64  \n",
      "dtypes: float64(3), int64(1)\n",
      "memory usage: 55.8 KB\n"
     ]
    }
   ],
   "source": [
    "data.info()  # again checking the data info"
   ]
  },
  {
   "cell_type": "code",
   "execution_count": null,
   "id": "2615bc26-feb7-49cb-ab9b-b91ba60289af",
   "metadata": {
    "id": "2615bc26-feb7-49cb-ab9b-b91ba60289af",
    "outputId": "79b51af1-72be-4a09-c00c-012965bd64e4"
   },
   "outputs": [
    {
     "data": {
      "text/plain": [
       "temp          0\n",
       "humidity      0\n",
       "heat_index    0\n",
       "weather       0\n",
       "dtype: int64"
      ]
     },
     "execution_count": 21,
     "metadata": {},
     "output_type": "execute_result"
    }
   ],
   "source": [
    "data.isna().sum() # searching for null values"
   ]
  },
  {
   "cell_type": "code",
   "execution_count": null,
   "id": "e5ea2699-6047-4202-91b0-0b8c48aa49a1",
   "metadata": {
    "id": "e5ea2699-6047-4202-91b0-0b8c48aa49a1",
    "outputId": "c82fe169-39c1-447a-9b10-79c413208e4b"
   },
   "outputs": [
    {
     "data": {
      "text/plain": [
       "73"
      ]
     },
     "execution_count": 22,
     "metadata": {},
     "output_type": "execute_result"
    }
   ],
   "source": [
    "data.duplicated().sum() # searching for the duplicate values"
   ]
  },
  {
   "cell_type": "code",
   "execution_count": null,
   "id": "00502630-e742-4528-b743-90ddd7820823",
   "metadata": {
    "id": "00502630-e742-4528-b743-90ddd7820823",
    "outputId": "fafca0ed-08b8-45ef-92bf-22eec238ebc0"
   },
   "outputs": [
    {
     "data": {
      "text/plain": [
       "(1708, 4)"
      ]
     },
     "execution_count": 23,
     "metadata": {},
     "output_type": "execute_result"
    }
   ],
   "source": [
    "data.drop_duplicates(inplace=True)  # deleting the duplicate values\n",
    "data.shape"
   ]
  },
  {
   "cell_type": "code",
   "execution_count": null,
   "id": "2a4d0a7c-f8da-46e6-be1b-c92802f045c1",
   "metadata": {
    "id": "2a4d0a7c-f8da-46e6-be1b-c92802f045c1",
    "outputId": "c0d85ce0-4c11-4590-ba26-c85697381980"
   },
   "outputs": [
    {
     "data": {
      "text/plain": [
       "array([4, 3, 2, 1], dtype=int64)"
      ]
     },
     "execution_count": 24,
     "metadata": {},
     "output_type": "execute_result"
    }
   ],
   "source": [
    "data[\"weather\"].unique() # gives the unique values of weather"
   ]
  },
  {
   "cell_type": "code",
   "execution_count": null,
   "id": "36b10ad8-e3e2-40fa-880a-5afce71c6acf",
   "metadata": {
    "id": "36b10ad8-e3e2-40fa-880a-5afce71c6acf",
    "outputId": "12a3ab15-a6b2-49f5-a5dd-10e5561315bf"
   },
   "outputs": [
    {
     "data": {
      "text/plain": [
       "<Axes: xlabel='weather'>"
      ]
     },
     "execution_count": 25,
     "metadata": {},
     "output_type": "execute_result"
    },
    {
     "data": {
      "image/png": "[encoded data removed]",
      "text/plain": [
       "<Figure size 640x480 with 1 Axes>"
      ]
     },
     "metadata": {},
     "output_type": "display_data"
    }
   ],
   "source": [
    "data[\"weather\"].value_counts().plot.bar()  # plot of weather"
   ]
  },
  {
   "cell_type": "code",
   "execution_count": null,
   "id": "0917a262-f412-448c-a85f-8b29e7163370",
   "metadata": {
    "id": "0917a262-f412-448c-a85f-8b29e7163370",
    "outputId": "9320b9f5-0be7-4c8e-c0dc-20b2aec1d543"
   },
   "outputs": [
    {
     "data": {
      "text/plain": [
       "weather\n",
       "3    1030\n",
       "2     462\n",
       "4     215\n",
       "1       1\n",
       "Name: count, dtype: int64"
      ]
     },
     "execution_count": 26,
     "metadata": {},
     "output_type": "execute_result"
    }
   ],
   "source": [
    "data[\"weather\"].value_counts()  # gives the value count of every unique weather conditions"
   ]
  },
  {
   "cell_type": "markdown",
   "id": "-s6FjDfTiWXC",
   "metadata": {
    "id": "-s6FjDfTiWXC"
   },
   "source": [
    "### A Seaborn heatmap is a data visualization tool that displays a matrix of values as a grid of colors, making it easy to identify patterns, correlations, and variations in the data. It is particularly useful for visualizing correlation matrices, confusion matrices, and other types of matrix data."
   ]
  },
  {
   "cell_type": "code",
   "execution_count": null,
   "id": "b0639500-5651-454e-8326-80e0b38c325d",
   "metadata": {
    "id": "b0639500-5651-454e-8326-80e0b38c325d",
    "outputId": "dcb5289c-3c01-4fce-860c-a754453a21b8"
   },
   "outputs": [
    {
     "data": {
      "text/plain": [
       "<Axes: >"
      ]
     },
     "execution_count": 27,
     "metadata": {},
     "output_type": "execute_result"
    },
    {
     "data": {
      "image/png": "[encoded data removed]",
      "text/plain": [
       "<Figure size 640x480 with 2 Axes>"
      ]
     },
     "metadata": {},
     "output_type": "display_data"
    }
   ],
   "source": [
    "sns.heatmap(data.corr())  # plot the heat map of the data"
   ]
  },
  {
   "cell_type": "code",
   "execution_count": null,
   "id": "_YsaJoHziqPC",
   "metadata": {
    "id": "_YsaJoHziqPC"
   },
   "outputs": [],
   "source": [
    "# Fill missing values\n",
    "data.fillna(method='ffill', inplace=True)"
   ]
  },
  {
   "cell_type": "code",
   "execution_count": null,
   "id": "6NpNPZOiivE4",
   "metadata": {
    "id": "6NpNPZOiivE4"
   },
   "outputs": [],
   "source": [
    "# Convert all feature columns to numeric\n",
    "for col in data.columns:\n",
    "    data[col] = pd.to_numeric(data[col], errors='coerce')"
   ]
  },
  {
   "cell_type": "code",
   "execution_count": null,
   "id": "fthKrROZiu33",
   "metadata": {
    "id": "fthKrROZiu33"
   },
   "outputs": [],
   "source": [
    "# Fill any remaining NaNs that might have been introduced\n",
    "data.fillna(0, inplace=True)"
   ]
  },
  {
   "cell_type": "code",
   "execution_count": null,
   "id": "scg8GT-siukT",
   "metadata": {
    "id": "scg8GT-siukT"
   },
   "outputs": [],
   "source": [
    "# Encode the target variable\n",
    "from sklearn.preprocessing import LabelEncoder\n",
    "label_encoder = LabelEncoder()\n",
    "data['weather'] = label_encoder.fit_transform(data['weather'])"
   ]
  },
  {
   "cell_type": "code",
   "execution_count": null,
   "id": "6ff31ff3-13bc-419a-aa3b-b68b4866299c",
   "metadata": {
    "id": "6ff31ff3-13bc-419a-aa3b-b68b4866299c"
   },
   "outputs": [],
   "source": [
    "# Define features and target\n",
    "X = data.drop('weather', axis=1)\n",
    "y = data['weather']"
   ]
  },
  {
   "cell_type": "markdown",
   "id": "JXHwmjcQFEug",
   "metadata": {
    "id": "JXHwmjcQFEug"
   },
   "source": [
    "### **3. Model Development:**\n",
    "Split the dataset into training and testing sets, and implement a Decision Tree Classifier using TensorFlow."
   ]
  },
  {
   "cell_type": "code",
   "execution_count": null,
   "id": "6oaWSvJtjMjX",
   "metadata": {
    "id": "6oaWSvJtjMjX"
   },
   "outputs": [],
   "source": [
    "# Split the dataset into training and testing sets\n",
    "X_train, X_test, y_train, y_test = train_test_split(X, y, test_size=0.2, random_state=42)"
   ]
  },
  {
   "cell_type": "code",
   "execution_count": null,
   "id": "S-4Y0tTHjN36",
   "metadata": {
    "id": "S-4Y0tTHjN36"
   },
   "outputs": [],
   "source": [
    "# Build the Decision Tree Classifier model\n",
    "model = tf.keras.Sequential([\n",
    "    tf.keras.layers.Input(shape=(X_train.shape[1],)),\n",
    "    tf.keras.layers.Dense(128, activation='relu'),\n",
    "    tf.keras.layers.Dense(64, activation='relu'),\n",
    "    tf.keras.layers.Dense(len(label_encoder.classes_), activation='softmax')\n",
    "])"
   ]
  },
  {
   "cell_type": "code",
   "execution_count": null,
   "id": "XFWm3eccKkzK",
   "metadata": {
    "id": "XFWm3eccKkzK"
   },
   "outputs": [],
   "source": [
    "# Compile the model\n",
    "model.compile(optimizer='adam', loss='sparse_categorical_crossentropy', metrics=['accuracy'])"
   ]
  },
  {
   "cell_type": "markdown",
   "id": "XAEHkelZFhfZ",
   "metadata": {
    "id": "XAEHkelZFhfZ"
   },
   "source": [
    "### **4. Model Training**\n",
    "Train the model using the training data and monitor its performance."
   ]
  },
  {
   "cell_type": "code",
   "execution_count": null,
   "id": "3a198884-0e31-4304-b56c-56a2cdb9de92",
   "metadata": {
    "id": "3a198884-0e31-4304-b56c-56a2cdb9de92"
   },
   "outputs": [],
   "source": [
    "X = data.loc[:,[\"temp\",\"humidity\",\"heat_index\"]]"
   ]
  },
  {
   "cell_type": "code",
   "execution_count": null,
   "id": "686e0661-2ed9-4ba8-80a0-ee1389fa098b",
   "metadata": {
    "id": "686e0661-2ed9-4ba8-80a0-ee1389fa098b",
    "outputId": "de60aa98-46cf-4d44-8f0f-d970ebd8ada8"
   },
   "outputs": [
    {
     "data": {
      "text/html": [
       "<div>\n",
       "<style scoped>\n",
       "    .dataframe tbody tr th:only-of-type {\n",
       "        vertical-align: middle;\n",
       "    }\n",
       "\n",
       "    .dataframe tbody tr th {\n",
       "        vertical-align: top;\n",
       "    }\n",
       "\n",
       "    .dataframe thead th {\n",
       "        text-align: right;\n",
       "    }\n",
       "</style>\n",
       "<table border=\"1\" class=\"dataframe\">\n",
       "  <thead>\n",
       "    <tr style=\"text-align: right;\">\n",
       "      <th></th>\n",
       "      <th>temp</th>\n",
       "      <th>humidity</th>\n",
       "      <th>heat_index</th>\n",
       "    </tr>\n",
       "  </thead>\n",
       "  <tbody>\n",
       "    <tr>\n",
       "      <th>0</th>\n",
       "      <td>28.4</td>\n",
       "      <td>37.8</td>\n",
       "      <td>143.886492</td>\n",
       "    </tr>\n",
       "    <tr>\n",
       "      <th>1</th>\n",
       "      <td>26.8</td>\n",
       "      <td>44.8</td>\n",
       "      <td>164.714809</td>\n",
       "    </tr>\n",
       "    <tr>\n",
       "      <th>2</th>\n",
       "      <td>25.5</td>\n",
       "      <td>52.8</td>\n",
       "      <td>184.766321</td>\n",
       "    </tr>\n",
       "    <tr>\n",
       "      <th>3</th>\n",
       "      <td>26.4</td>\n",
       "      <td>46.6</td>\n",
       "      <td>169.873735</td>\n",
       "    </tr>\n",
       "    <tr>\n",
       "      <th>4</th>\n",
       "      <td>27.1</td>\n",
       "      <td>44.9</td>\n",
       "      <td>163.735238</td>\n",
       "    </tr>\n",
       "    <tr>\n",
       "      <th>...</th>\n",
       "      <td>...</td>\n",
       "      <td>...</td>\n",
       "      <td>...</td>\n",
       "    </tr>\n",
       "    <tr>\n",
       "      <th>1776</th>\n",
       "      <td>27.4</td>\n",
       "      <td>41.5</td>\n",
       "      <td>155.554949</td>\n",
       "    </tr>\n",
       "    <tr>\n",
       "      <th>1777</th>\n",
       "      <td>28.0</td>\n",
       "      <td>40.9</td>\n",
       "      <td>152.141608</td>\n",
       "    </tr>\n",
       "    <tr>\n",
       "      <th>1778</th>\n",
       "      <td>28.4</td>\n",
       "      <td>56.9</td>\n",
       "      <td>176.390640</td>\n",
       "    </tr>\n",
       "    <tr>\n",
       "      <th>1779</th>\n",
       "      <td>29.5</td>\n",
       "      <td>61.3</td>\n",
       "      <td>175.058042</td>\n",
       "    </tr>\n",
       "    <tr>\n",
       "      <th>1780</th>\n",
       "      <td>29.7</td>\n",
       "      <td>65.4</td>\n",
       "      <td>176.508394</td>\n",
       "    </tr>\n",
       "  </tbody>\n",
       "</table>\n",
       "<p>1708 rows × 3 columns</p>\n",
       "</div>"
      ],
      "text/plain": [
       "      temp  humidity  heat_index\n",
       "0     28.4      37.8  143.886492\n",
       "1     26.8      44.8  164.714809\n",
       "2     25.5      52.8  184.766321\n",
       "3     26.4      46.6  169.873735\n",
       "4     27.1      44.9  163.735238\n",
       "...    ...       ...         ...\n",
       "1776  27.4      41.5  155.554949\n",
       "1777  28.0      40.9  152.141608\n",
       "1778  28.4      56.9  176.390640\n",
       "1779  29.5      61.3  175.058042\n",
       "1780  29.7      65.4  176.508394\n",
       "\n",
       "[1708 rows x 3 columns]"
      ]
     },
     "execution_count": 37,
     "metadata": {},
     "output_type": "execute_result"
    }
   ],
   "source": [
    "X"
   ]
  },
  {
   "cell_type": "code",
   "execution_count": null,
   "id": "1c574e38-29a7-44fc-8983-e24a3f264f6b",
   "metadata": {
    "id": "1c574e38-29a7-44fc-8983-e24a3f264f6b"
   },
   "outputs": [],
   "source": [
    "y = data.iloc[:,3].astype(int)"
   ]
  },
  {
   "cell_type": "code",
   "execution_count": null,
   "id": "51060de4-0256-4e3e-915f-488cc6f28cb7",
   "metadata": {
    "id": "51060de4-0256-4e3e-915f-488cc6f28cb7",
    "outputId": "76fefacd-10d9-4003-d714-a4c776279dee"
   },
   "outputs": [
    {
     "data": {
      "text/plain": [
       "0       3\n",
       "1       3\n",
       "2       2\n",
       "3       3\n",
       "4       3\n",
       "       ..\n",
       "1776    3\n",
       "1777    3\n",
       "1778    2\n",
       "1779    2\n",
       "1780    2\n",
       "Name: weather, Length: 1708, dtype: int32"
      ]
     },
     "execution_count": 39,
     "metadata": {},
     "output_type": "execute_result"
    }
   ],
   "source": [
    "y"
   ]
  },
  {
   "cell_type": "code",
   "execution_count": null,
   "id": "fbe2290c-0f0d-4331-ad3a-ecb9242f3c9e",
   "metadata": {
    "id": "fbe2290c-0f0d-4331-ad3a-ecb9242f3c9e"
   },
   "outputs": [],
   "source": [
    "X_train, X_test, y_train, y_test = train_test_split(X, y, train_size=0.7, random_state=42)"
   ]
  },
  {
   "cell_type": "code",
   "execution_count": null,
   "id": "dd998b57-56c1-4e20-ab77-b565e45693f6",
   "metadata": {
    "id": "dd998b57-56c1-4e20-ab77-b565e45693f6",
    "outputId": "8593a6dc-677f-4f74-b940-feebcb8efeef"
   },
   "outputs": [
    {
     "data": {
      "text/plain": [
       "[[30.6, 43.6, 148.332029087616],\n",
       " [24.8, 52.3, 187.297434546036],\n",
       " [28.4, 84.0, 182.19137140239997],\n",
       " [29.3, 67.7, 179.52995468958096],\n",
       " [29.7, 79.3, 176.93902395398095],\n",
       " [27.0, 91.7, 184.24546479339998],\n",
       " [29.0, 80.6, 180.4729137591999],\n",
       " [30.4, 52.5, 162.3225732977],\n",
       " [30.7, 58.3, 166.97964945050097],\n",
       " [30.0, 69.3, 176.2498986317],\n",
       " [27.3, 93.2, 180.50731777015588],\n",
       " [29.1, 54.4, 170.2930334499959],\n",
       " [25.7, 76.3, 201.71453019242102],\n",
       " [28.8, 78.0, 182.62592425520003],\n",
       " [27.9, 84.8, 184.744815793804],\n",
       " [29.1, 69.6, 181.15321959815594],\n",
       " [28.0, 72.2, 187.75932743919995],\n",
       " [27.0, 43.1, 160.44603954459996],\n",
       " [27.3, 48.5, 169.57452343592502],\n",
       " [27.2, 90.7, 184.03045625259588],\n",
       " [29.0, 78.2, 181.39578888879996],\n",
       " [28.3, 76.4, 185.92375197084388],\n",
       " [23.5, 45.8, 180.48299488840004],\n",
       " [29.9, 45.6, 154.29900700615602],\n",
       " [29.2, 47.6, 160.29754251846398],\n",
       " [28.7, 72.0, 183.76573311310005],\n",
       " [31.3, 71.0, 169.62703171479993],\n",
       " [27.2, 63.3, 188.33850374851602],\n",
       " [28.7, 77.5, 183.347101592925],\n",
       " [26.1, 94.1, 187.38917410566097],\n",
       " [26.5, 59.9, 189.01409198132507],\n",
       " [26.1, 84.9, 196.18798456930102],\n",
       " [29.2, 66.3, 179.51342418995603],\n",
       " [28.3, 85.0, 182.11799861879993],\n",
       " [25.5, 52.0, 183.47857512750005],\n",
       " [28.3, 45.7, 160.567926619221],\n",
       " [25.9, 94.6, 188.11010060241586],\n",
       " [27.4, 91.8, 181.51468330006398],\n",
       " [30.3, 60.6, 170.663034528944],\n",
       " [26.3, 55.1, 184.29881293978895],\n",
       " [31.5, 70.8, 168.58118744629996],\n",
       " [26.1, 41.7, 160.73329634942903],\n",
       " [29.1, 70.0, 181.24129794869992],\n",
       " [26.5, 64.4, 192.93746794270004],\n",
       " [30.6, 66.0, 172.1729453791999],\n",
       " [30.9, 73.4, 171.6885347625761],\n",
       " [29.1, 84.5, 177.588537754525],\n",
       " [28.8, 73.2, 183.27261491081595],\n",
       " [30.3, 58.6, 169.08396960878403],\n",
       " [26.9, 66.1, 191.83594153910101],\n",
       " [30.8, 71.8, 172.27873290105603],\n",
       " [26.1, 92.6, 189.21547149985597],\n",
       " [27.1, 64.8, 189.93187959316398],\n",
       " [27.5, 86.6, 185.91978883480004],\n",
       " [25.4, 61.6, 196.57239298281598],\n",
       " [30.1, 79.5, 174.55772220852498],\n",
       " [28.3, 46.9, 162.70160898162902],\n",
       " [30.9, 72.0, 171.7494120359001],\n",
       " [28.5, 83.8, 181.7096152043999],\n",
       " [28.1, 88.6, 180.36659471121587],\n",
       " [29.3, 71.4, 180.36590098350396],\n",
       " [27.3, 91.2, 182.837918480636],\n",
       " [29.2, 79.5, 179.76657202009994],\n",
       " [27.1, 85.5, 189.30725399292507],\n",
       " [27.4, 93.0, 180.09806709679992],\n",
       " [29.8, 79.2, 176.402899418816],\n",
       " [26.9, 45.5, 165.70606373792498],\n",
       " [26.8, 37.0, 147.0006850296],\n",
       " [27.5, 90.9, 181.8668051889251],\n",
       " [28.7, 45.8, 159.19895738785598],\n",
       " [28.2, 47.5, 164.13809988779997],\n",
       " [27.4, 65.2, 188.554976651904],\n",
       " [23.9, 69.0, 211.00545402039998],\n",
       " [28.7, 83.7, 180.5553329975411],\n",
       " [29.5, 66.7, 178.105467537525],\n",
       " [27.1, 94.2, 180.56121766078405],\n",
       " [28.5, 52.4, 170.40598024509993],\n",
       " [29.5, 79.9, 177.84766729372492],\n",
       " [27.7, 59.9, 182.86731950110902],\n",
       " [29.7, 75.9, 177.949092676109],\n",
       " [28.0, 67.0, 186.25268544000002],\n",
       " [27.1, 85.1, 189.588641910901],\n",
       " [31.1, 49.0, 154.92791280840004],\n",
       " [27.7, 47.0, 165.29061319959996],\n",
       " [30.7, 69.3, 172.5697665681411],\n",
       " [25.1, 60.0, 196.51433053869988],\n",
       " [27.7, 85.8, 185.27503540289604],\n",
       " [29.9, 71.5, 177.096177498525],\n",
       " [26.3, 51.3, 178.6382118787809],\n",
       " [31.2, 66.9, 169.451626675364],\n",
       " [26.3, 56.5, 186.1384922207249],\n",
       " [29.3, 73.5, 180.4562248899249],\n",
       " [26.7, 89.7, 188.331592927781],\n",
       " [31.5, 72.7, 168.55857166792498],\n",
       " [29.1, 80.7, 179.8341355074289],\n",
       " [31.0, 55.7, 163.2582674614],\n",
       " [30.4, 73.6, 174.37490473305598],\n",
       " [26.6, 86.7, 191.637628253944],\n",
       " [30.9, 71.2, 171.73075646636406],\n",
       " [28.0, 89.5, 180.1218189525],\n",
       " [27.3, 91.8, 182.1664736488159],\n",
       " [32.1, 70.8, 165.506052362924],\n",
       " [31.4, 69.3, 168.95701626354395],\n",
       " [26.1, 50.4, 178.05281651231604],\n",
       " [28.7, 81.7, 181.72453869662115],\n",
       " [28.6, 80.0, 183.11344754319998],\n",
       " [29.5, 56.4, 170.70849215509998],\n",
       " [25.2, 77.7, 204.77101249979592],\n",
       " [29.3, 62.6, 176.9622816857439],\n",
       " [30.1, 75.0, 175.86438335719996],\n",
       " [27.3, 49.3, 170.92979174474098],\n",
       " [31.6, 72.7, 168.03439639808397],\n",
       " [29.4, 86.5, 174.21970231739988],\n",
       " [27.0, 50.2, 173.71758900240005],\n",
       " [28.0, 86.9, 182.5117402993],\n",
       " [31.5, 69.1, 168.418263761325],\n",
       " [28.7, 83.4, 180.74702384574402],\n",
       " [28.1, 57.3, 178.26225539086897],\n",
       " [31.9, 69.8, 166.46846922318406],\n",
       " [27.3, 90.2, 183.90416390257607],\n",
       " [31.2, 72.3, 170.15739471371606],\n",
       " [29.2, 56.0, 171.66430932879993],\n",
       " [26.9, 90.6, 186.09989679841598],\n",
       " [27.9, 86.8, 183.22416188732393],\n",
       " [28.0, 68.6, 186.9034582048],\n",
       " [29.3, 84.9, 176.092865840149],\n",
       " [29.9, 41.7, 147.25214301238898],\n",
       " [28.8, 67.9, 182.27871211160394],\n",
       " [27.2, 51.6, 175.03913223030395],\n",
       " [25.9, 74.8, 200.46593036636395],\n",
       " [31.3, 73.2, 169.57351536791595],\n",
       " [29.6, 38.2, 141.04632419174396],\n",
       " [26.8, 90.3, 187.069279772036],\n",
       " [29.6, 64.8, 176.7293347728639],\n",
       " [28.6, 51.6, 168.85533236873601],\n",
       " [28.7, 59.7, 177.70016122170105],\n",
       " [29.3, 53.5, 168.3054150119249],\n",
       " [26.0, 40.4, 158.06227130559998],\n",
       " [30.7, 59.0, 167.55536957559997],\n",
       " [25.9, 95.9, 186.36448253010084],\n",
       " [27.1, 93.4, 181.57506774177597],\n",
       " [25.4, 49.8, 180.16180923990396],\n",
       " [29.0, 79.7, 180.86186655579993],\n",
       " [31.4, 70.2, 169.058180485984],\n",
       " [29.8, 47.5, 157.77886239179998],\n",
       " [28.7, 67.6, 182.70757301564404],\n",
       " [28.1, 70.0, 186.77534953469993],\n",
       " [29.9, 58.7, 171.04395573826903],\n",
       " [30.5, 78.7, 172.61831193832498],\n",
       " [24.9, 51.2, 184.94263475724398],\n",
       " [32.4, 41.5, 138.6846773769],\n",
       " [31.5, 72.4, 168.57650798069997],\n",
       " [28.2, 86.4, 181.66969428358388],\n",
       " [29.7, 81.2, 176.05994897047597],\n",
       " [27.5, 90.0, 182.8156849375],\n",
       " [30.6, 72.9, 173.33358438965587],\n",
       " [30.1, 68.4, 175.5134045474361],\n",
       " [31.0, 74.7, 170.9843826974001],\n",
       " [28.4, 74.5, 185.54210176289996],\n",
       " [29.7, 70.7, 178.09668204042097],\n",
       " [29.1, 81.7, 179.33190745806894],\n",
       " [29.0, 69.4, 181.6494992952],\n",
       " [24.6, 71.0, 207.6549429831999],\n",
       " [29.0, 82.0, 179.76561215999993],\n",
       " [30.2, 76.7, 174.95727959413603],\n",
       " [27.3, 51.0, 173.6694090787999],\n",
       " [28.4, 48.1, 164.33370828603603],\n",
       " [29.5, 73.2, 179.34558880789982],\n",
       " [30.2, 81.4, 173.05250897846403],\n",
       " [27.5, 83.6, 188.02760853430001],\n",
       " [31.3, 73.0, 169.59040988519993],\n",
       " [30.4, 52.9, 162.80550222339605],\n",
       " [26.9, 93.5, 182.77362352832492],\n",
       " [24.5, 32.5, 141.29170901812503],\n",
       " [29.4, 53.2, 167.49217498166388],\n",
       " [28.6, 83.1, 181.539692768216],\n",
       " [25.1, 66.3, 202.17101132206898],\n",
       " [28.3, 89.3, 178.42476472878099],\n",
       " [31.8, 68.0, 166.71549539920008],\n",
       " [27.7, 80.3, 188.435036441101],\n",
       " [28.0, 56.0, 177.2743485999999],\n",
       " [29.1, 62.0, 177.5532671359],\n",
       " [28.9, 75.6, 182.55713058167598],\n",
       " [22.5, 53.7, 201.15510014532504],\n",
       " [27.4, 56.7, 180.9758775910639],\n",
       " [28.9, 83.3, 179.599818426109],\n",
       " [28.7, 64.4, 181.16023921596403],\n",
       " [28.3, 73.9, 186.13441287066894],\n",
       " [27.8, 88.6, 182.26846077878395],\n",
       " [30.9, 72.4, 171.7441645707961],\n",
       " [29.4, 83.6, 176.40771763177594],\n",
       " [25.6, 58.2, 191.789829689024],\n",
       " [27.5, 45.6, 163.51588747629998],\n",
       " [28.5, 70.6, 184.6762420235999],\n",
       " [29.4, 62.0, 176.05373140239996],\n",
       " [27.3, 89.8, 184.31217181713603],\n",
       " [28.5, 76.2, 184.7850483044],\n",
       " [26.1, 68.5, 197.6342930033249],\n",
       " [31.3, 71.6, 169.64130689508403],\n",
       " [24.6, 64.0, 203.26416835439997],\n",
       " [28.1, 86.8, 181.9673061683639],\n",
       " [29.7, 82.9, 175.08219629214898],\n",
       " [26.8, 88.4, 188.90189784774395],\n",
       " [26.0, 66.4, 197.0696562935999],\n",
       " [29.9, 69.6, 176.84181829063596],\n",
       " [29.6, 52.2, 165.351220105504],\n",
       " [26.4, 92.5, 187.31287316970003],\n",
       " [28.9, 60.8, 177.641012597884],\n",
       " [31.3, 73.7, 169.52075335422103],\n",
       " [29.8, 79.3, 176.36252866341593],\n",
       " [30.6, 75.5, 173.01549603579994],\n",
       " [27.2, 91.2, 183.49019841817596],\n",
       " [25.1, 64.8, 201.07377134100395],\n",
       " [30.3, 71.1, 174.91013670290897],\n",
       " [28.2, 82.9, 184.10048798066393],\n",
       " [31.3, 73.1, 169.58226336142897],\n",
       " [25.4, 59.0, 193.78029234640002],\n",
       " [30.8, 75.6, 171.89842698342406],\n",
       " [28.2, 82.0, 184.59744252960002],\n",
       " [25.5, 59.5, 193.824388543125],\n",
       " [30.7, 74.3, 172.66983680634095],\n",
       " [29.7, 42.6, 149.658494584784],\n",
       " [28.1, 46.1, 162.07532105874097],\n",
       " [28.5, 88.0, 178.41776127749998],\n",
       " [29.4, 49.6, 162.58515201609595],\n",
       " [27.2, 87.2, 187.34896262713588],\n",
       " [24.6, 51.7, 187.23031393538392],\n",
       " [30.0, 77.6, 175.8280306888],\n",
       " [29.3, 79.6, 179.14106661860387],\n",
       " [27.0, 46.1, 166.4626099006],\n",
       " [28.1, 86.1, 182.5330626275409],\n",
       " [28.6, 58.2, 176.780804706464],\n",
       " [27.9, 85.3, 184.38908171310905],\n",
       " [31.0, 68.7, 170.90734375340006],\n",
       " [28.0, 84.1, 184.59412639529998],\n",
       " [29.5, 61.3, 175.0580415815249],\n",
       " [30.7, 73.4, 172.764410311024],\n",
       " [26.4, 46.6, 169.87373523849598],\n",
       " [29.6, 66.5, 177.5031547249],\n",
       " [30.7, 64.7, 171.13032951642094],\n",
       " [29.9, 77.6, 176.395274152396],\n",
       " [28.0, 46.3, 162.8317402197],\n",
       " [26.9, 48.2, 170.74103012766398],\n",
       " [28.2, 84.4, 183.15576977414395],\n",
       " [29.7, 79.5, 176.85711262872496],\n",
       " [28.1, 74.9, 187.26366168114103],\n",
       " [25.5, 67.2, 200.4240976187],\n",
       " [29.6, 81.5, 176.48600510289998],\n",
       " [28.0, 82.6, 185.50007588879993],\n",
       " [27.3, 84.9, 188.452783231229],\n",
       " [30.9, 76.2, 171.20968659406407],\n",
       " [29.3, 69.5, 180.04449101672498],\n",
       " [27.9, 77.0, 188.18552199640007],\n",
       " [28.4, 88.9, 178.19091720891583],\n",
       " [26.5, 95.8, 182.42116163880002],\n",
       " [28.9, 82.1, 180.30899361378104],\n",
       " [30.6, 68.9, 173.01552729973588],\n",
       " [28.0, 81.0, 186.30523009999993],\n",
       " [31.2, 71.3, 170.15934078787606],\n",
       " [29.1, 78.2, 180.8124596067039],\n",
       " [29.4, 72.2, 179.8795648354239],\n",
       " [28.5, 88.2, 178.2327335323999],\n",
       " [29.7, 58.6, 171.89985169646408],\n",
       " [30.6, 54.0, 163.21793839039998],\n",
       " [28.5, 86.5, 179.7235425131249],\n",
       " [23.6, 55.6, 198.60638459481592],\n",
       " [30.1, 77.3, 175.35314258002893],\n",
       " [27.6, 47.8, 167.110113451584],\n",
       " [28.2, 71.7, 186.55289522981602],\n",
       " [25.6, 68.5, 200.54920950569996],\n",
       " [29.8, 53.2, 165.74710744185597],\n",
       " [28.7, 82.5, 181.28755758092507],\n",
       " [27.0, 62.6, 188.85821701359995],\n",
       " [26.1, 64.6, 195.29324689809596],\n",
       " [28.6, 80.8, 182.76629711414395],\n",
       " [28.7, 49.9, 165.94111864014906],\n",
       " [29.7, 76.9, 177.72699870042894],\n",
       " [27.3, 84.1, 188.978237922669],\n",
       " [29.9, 81.6, 174.679349352076],\n",
       " [25.2, 55.4, 190.14473531574401],\n",
       " [25.5, 63.2, 197.50426833069994],\n",
       " [28.9, 82.0, 180.3639532899001],\n",
       " [30.2, 77.8, 174.63375499977596],\n",
       " [28.5, 60.2, 179.12804448039995],\n",
       " [28.0, 88.5, 181.09301686249992],\n",
       " [28.5, 80.2, 183.6290450604],\n",
       " [28.4, 65.9, 183.56280995827598],\n",
       " [28.8, 74.7, 183.22846145195598],\n",
       " [25.9, 66.9, 197.94154690918094],\n",
       " [28.9, 84.0, 179.14379535590007],\n",
       " [28.0, 53.9, 174.66627231729998],\n",
       " [27.6, 43.9, 159.82193622387592],\n",
       " [29.1, 78.5, 180.71597298632486],\n",
       " [25.2, 45.3, 172.201100134676],\n",
       " [26.8, 90.5, 186.8623484317001],\n",
       " [27.3, 87.9, 186.10591939178894],\n",
       " [30.3, 55.1, 165.72763432882897],\n",
       " [30.4, 77.2, 173.69866881014403],\n",
       " [28.6, 82.7, 181.77737649954406],\n",
       " [29.8, 72.2, 177.67968671689596],\n",
       " [28.9, 73.6, 182.70770845503603],\n",
       " [31.1, 75.7, 170.24173549998898],\n",
       " [26.7, 85.9, 191.5928603809891],\n",
       " [24.1, 54.1, 193.68823748762088],\n",
       " [27.2, 90.8, 183.92372839561594],\n",
       " [30.0, 72.1, 176.58534471330006],\n",
       " [30.6, 71.9, 173.345822820376],\n",
       " [29.8, 78.9, 176.52027124498386],\n",
       " [30.8, 62.0, 169.20273086560007],\n",
       " [26.6, 97.2, 179.73274313286396],\n",
       " [29.5, 75.7, 179.1162660335249],\n",
       " [28.1, 80.1, 186.07894877982102],\n",
       " [31.1, 74.7, 170.44481793694902],\n",
       " [25.1, 94.8, 193.37990370780403],\n",
       " [28.7, 80.3, 182.390756081461],\n",
       " [28.0, 40.7, 151.7092791637],\n",
       " [27.0, 47.6, 169.24651333359998],\n",
       " [28.4, 63.2, 181.9589172101439],\n",
       " [27.6, 86.6, 185.28429056521605],\n",
       " [25.5, 52.8, 184.76632097869998],\n",
       " [26.1, 58.0, 188.9812241763],\n",
       " [28.0, 42.5, 155.5066447825],\n",
       " [27.8, 90.0, 180.88812392079996],\n",
       " [29.9, 72.7, 177.14114483262898],\n",
       " [30.2, 39.5, 141.9060276406],\n",
       " [25.8, 57.0, 189.28111718960002],\n",
       " [28.7, 78.7, 182.99864155874104],\n",
       " [27.0, 92.1, 183.7898067325999],\n",
       " [32.2, 69.8, 164.954635396576],\n",
       " [25.1, 57.0, 192.8535165124],\n",
       " [28.8, 52.1, 168.67875442512403],\n",
       " [28.3, 84.5, 182.46998169572493],\n",
       " [27.0, 84.2, 190.8194803384],\n",
       " [30.0, 78.9, 175.37478083329998],\n",
       " [31.2, 72.5, 170.14977037929998],\n",
       " [28.0, 75.6, 187.79418717679994],\n",
       " [25.8, 64.0, 196.5031336416],\n",
       " [27.9, 56.3, 178.10046408406896],\n",
       " [31.7, 52.1, 156.46024623934898],\n",
       " [26.8, 89.1, 188.2547711161641],\n",
       " [26.6, 55.2, 182.9785958419841],\n",
       " [26.7, 90.6, 187.41762829870407],\n",
       " [28.1, 70.6, 186.91879742865595],\n",
       " [23.8, 49.7, 187.3233297632559],\n",
       " [29.7, 53.7, 166.78778500870104],\n",
       " [28.2, 82.8, 184.1582931666559],\n",
       " [26.0, 75.0, 199.8583053999999],\n",
       " [29.3, 83.2, 177.26360280543588],\n",
       " [29.2, 71.2, 180.8930386752959],\n",
       " [29.0, 50.2, 165.12942162479993],\n",
       " [25.9, 69.5, 199.24175917952493],\n",
       " [26.5, 92.4, 186.7600101107001],\n",
       " [27.7, 87.0, 184.3225040876],\n",
       " [29.9, 71.4, 177.08838761953598],\n",
       " [28.3, 85.7, 181.59811035762087],\n",
       " [27.3, 86.1, 187.5853572474289],\n",
       " [28.6, 62.8, 180.65318336726398],\n",
       " [27.0, 69.1, 192.71108877660004],\n",
       " [28.0, 78.3, 187.28662175569997],\n",
       " [26.4, 64.0, 193.19135881439996],\n",
       " [28.3, 85.6, 181.674316677324],\n",
       " [27.9, 83.9, 185.34409575390097],\n",
       " [25.3, 43.5, 167.86727688492496],\n",
       " [30.6, 74.6, 173.17239742153595],\n",
       " [28.4, 84.4, 181.9227675586559],\n",
       " [28.2, 83.8, 183.55112615049603],\n",
       " [20.2, 51.3, 208.32669309221598],\n",
       " [29.1, 85.8, 176.61023367118395],\n",
       " [29.0, 77.6, 181.5693415072],\n",
       " [22.8, 56.6, 204.37415818662396],\n",
       " [30.1, 76.4, 175.59219063127594],\n",
       " [22.8, 40.7, 170.74215344947595],\n",
       " [29.1, 77.5, 181.01541537232495],\n",
       " [28.6, 81.1, 182.625537797976],\n",
       " [30.7, 68.8, 172.47585387879607],\n",
       " [29.4, 70.6, 179.71238339721592],\n",
       " [28.4, 58.6, 178.14501145449597],\n",
       " [24.8, 63.1, 201.32319012536396],\n",
       " [28.8, 71.9, 183.19474143768403],\n",
       " [27.1, 92.7, 182.427360977549],\n",
       " [28.6, 62.9, 180.72230001061604],\n",
       " [23.8, 56.6, 199.05923091318394],\n",
       " [28.3, 76.6, 185.889469985904],\n",
       " [29.7, 42.2, 148.89750149233595],\n",
       " [27.6, 88.7, 183.45116128320404],\n",
       " [23.1, 57.4, 203.95405254801602],\n",
       " [27.2, 90.0, 184.75901931279992],\n",
       " [28.0, 83.2, 185.1552452111999],\n",
       " [29.1, 47.3, 160.2034561413489],\n",
       " [27.6, 86.8, 185.12216901542396],\n",
       " [26.2, 48.4, 174.093522022944],\n",
       " [28.0, 81.5, 186.07149351249993],\n",
       " [29.6, 75.4, 178.59985979913597],\n",
       " [28.8, 55.1, 172.486235992564],\n",
       " [32.1, 62.4, 163.268020531196],\n",
       " [30.5, 71.6, 173.87127863229995],\n",
       " [27.3, 92.8, 180.9945696313559],\n",
       " [29.2, 72.6, 181.00840011046398],\n",
       " [29.0, 61.2, 177.45870945279998],\n",
       " [30.0, 71.2, 176.53057306320008],\n",
       " [28.3, 48.7, 165.727841395701],\n",
       " [25.5, 49.3, 178.80769064632497],\n",
       " [23.8, 67.8, 210.882395098016],\n",
       " [26.3, 59.9, 190.05524865706894],\n",
       " [29.9, 69.8, 176.879165900944],\n",
       " [27.6, 85.9, 185.83105498803596],\n",
       " [27.5, 54.7, 178.030164551325],\n",
       " [27.4, 34.3, 138.200262627864],\n",
       " [28.2, 87.0, 181.17340536560002],\n",
       " [29.7, 80.7, 176.31315513502093],\n",
       " [29.1, 49.3, 163.36878024546894],\n",
       " [30.0, 68.4, 176.0387681888001],\n",
       " [31.1, 70.8, 170.659350225244],\n",
       " [28.1, 81.0, 185.69589317319992],\n",
       " [27.7, 48.7, 168.22993046978098],\n",
       " [29.2, 74.5, 180.9667574541],\n",
       " [27.8, 90.8, 180.04190176489598],\n",
       " [31.0, 76.9, 170.46616010459996],\n",
       " [27.1, 89.6, 185.81109255271593],\n",
       " [31.1, 28.6, 114.19163260497601],\n",
       " [30.7, 75.4, 172.48712243486392],\n",
       " [30.4, 52.0, 161.70508340640004],\n",
       " [29.1, 61.9, 177.4815016902209],\n",
       " [29.4, 69.2, 179.43394941750392],\n",
       " [28.9, 80.1, 181.28722272454107],\n",
       " [28.5, 86.7, 179.5577916745249],\n",
       " [27.7, 51.1, 172.05758057430904],\n",
       " [29.6, 71.0, 178.67775020319993],\n",
       " [31.4, 73.4, 169.02426654601604],\n",
       " [27.8, 76.9, 188.80036945922393],\n",
       " [27.8, 55.5, 177.62263962220004],\n",
       " [29.9, 62.3, 173.77607349286907],\n",
       " [27.5, 38.5, 148.41090490312502],\n",
       " [31.0, 72.4, 171.2126372136001],\n",
       " [27.9, 51.7, 172.06854930654896],\n",
       " [28.4, 45.5, 159.81696178329997],\n",
       " [30.6, 74.2, 173.226227568864],\n",
       " [29.8, 60.9, 173.29507292722397],\n",
       " [29.3, 75.2, 180.32560915615593],\n",
       " [28.9, 83.5, 179.47270939432502],\n",
       " [28.6, 56.5, 175.00640713740003],\n",
       " [28.9, 79.0, 181.71669909240006],\n",
       " [27.6, 92.3, 179.63569560960403],\n",
       " [29.3, 47.1, 159.08850566062898],\n",
       " [30.7, 61.0, 169.03552400279995],\n",
       " [25.4, 46.4, 173.65350722857593],\n",
       " [27.4, 61.6, 185.9261359349759],\n",
       " [30.1, 69.7, 175.79578394526905],\n",
       " [25.5, 95.9, 189.123360738925],\n",
       " [31.5, 71.2, 168.59438298029997],\n",
       " [28.3, 81.9, 184.04014804682896],\n",
       " [30.9, 69.4, 171.54667274865608],\n",
       " [27.8, 85.6, 184.7953886965439],\n",
       " [30.0, 52.4, 163.89656476480005],\n",
       " [27.6, 50.1, 170.94060912443598],\n",
       " [22.9, 55.0, 201.29961528119992],\n",
       " [29.4, 63.0, 176.71828502479994],\n",
       " [29.4, 72.3, 179.8846647377839],\n",
       " [26.9, 64.9, 191.0894161037011],\n",
       " [25.4, 64.4, 199.05854670601607],\n",
       " [28.2, 44.8, 159.28768250553594],\n",
       " [28.4, 79.6, 184.46590456281592],\n",
       " [29.3, 44.8, 155.14510470111588],\n",
       " [29.8, 75.4, 177.4750437800639],\n",
       " [28.5, 80.4, 183.54425722909994],\n",
       " [28.7, 44.0, 155.89935252909999],\n",
       " [29.7, 39.2, 142.871366792956],\n",
       " [26.7, 66.2, 193.00709167009603],\n",
       " [32.2, 56.1, 158.429648171864],\n",
       " [29.2, 63.2, 177.85663968841595],\n",
       " [29.3, 55.3, 170.4321707858609],\n",
       " [27.8, 77.9, 188.59140662994398],\n",
       " [29.8, 57.6, 170.51282382022396],\n",
       " [32.1, 72.3, 165.46774227038904],\n",
       " [28.0, 62.6, 183.6051033687999],\n",
       " [29.1, 73.7, 181.57535729854897],\n",
       " [29.1, 84.9, 177.29892780706098],\n",
       " [25.7, 49.9, 178.987510903029],\n",
       " [28.8, 53.3, 170.27066517763606],\n",
       " [29.3, 86.9, 174.48214748458904],\n",
       " [21.2, 57.9, 215.22089103168406],\n",
       " [32.3, 51.3, 153.136084520821],\n",
       " [28.9, 70.1, 182.35843949034108],\n",
       " [29.2, 49.7, 163.55745541915593],\n",
       " [26.8, 49.3, 173.08631045019598],\n",
       " [25.2, 53.1, 186.67910261824392],\n",
       " [30.1, 82.6, 172.92839002113598],\n",
       " [28.4, 37.8, 143.88649185654396],\n",
       " [27.2, 65.9, 190.06353128568398],\n",
       " [30.3, 69.7, 174.736295845341],\n",
       " [28.9, 66.1, 181.00429276226103],\n",
       " [28.4, 78.1, 184.95632468763588],\n",
       " [31.7, 72.1, 167.54716483494894],\n",
       " [31.7, 43.0, 143.52899257320004],\n",
       " [29.4, 74.7, 179.81827636402394],\n",
       " [32.3, 68.4, 164.29896655452407],\n",
       " [27.7, 52.5, 174.11630094492503],\n",
       " [28.3, 83.3, 183.24889776474092],\n",
       " [29.6, 78.9, 177.67197938371584],\n",
       " [28.4, 83.9, 182.25691225651588],\n",
       " [28.3, 39.7, 148.505185770861],\n",
       " [30.0, 46.8, 155.89418253920002],\n",
       " [31.4, 73.3, 169.03462656818405],\n",
       " [27.9, 87.1, 182.97358875710103],\n",
       " [31.2, 70.7, 170.131567954036],\n",
       " [29.0, 48.2, 162.06199944879998],\n",
       " [28.8, 80.7, 181.61605333451584],\n",
       " [29.5, 68.5, 178.7144517131249],\n",
       " [29.8, 71.1, 177.60259704850404],\n",
       " [28.5, 84.5, 181.2396869181249],\n",
       " [30.7, 52.5, 161.05912658892507],\n",
       " [26.2, 49.1, 175.35272675826405],\n",
       " [26.9, 61.8, 188.71678583790404],\n",
       " [24.3, 32.0, 140.29390316109996],\n",
       " [29.2, 69.8, 180.653759848096],\n",
       " [27.6, 63.6, 186.42872851385604],\n",
       " [25.1, 59.5, 195.94752625252494],\n",
       " [29.3, 76.2, 180.163623936016],\n",
       " [30.8, 52.6, 160.75881027398404],\n",
       " [31.0, 70.0, 171.10912050000005],\n",
       " [28.5, 86.1, 180.04733342772496],\n",
       " [28.5, 82.3, 182.61058140352498],\n",
       " [31.7, 70.6, 167.54211051230396],\n",
       " [23.3, 50.4, 191.04647481612395],\n",
       " [31.0, 71.2, 171.20449953840003],\n",
       " [31.7, 72.0, 167.5509974311],\n",
       " [29.4, 83.3, 176.60385827874384],\n",
       " [24.7, 73.9, 207.83799677766896],\n",
       " [26.8, 52.9, 178.80983301128404],\n",
       " [26.0, 45.3, 168.9277951068999],\n",
       " [30.1, 75.5, 175.781099280925],\n",
       " [25.0, 70.2, 204.89763572719997],\n",
       " [28.7, 78.8, 182.96544577327612],\n",
       " [30.9, 81.4, 169.05720881601601],\n",
       " [27.1, 48.2, 169.89630538494396],\n",
       " [25.8, 94.3, 189.1805488072559],\n",
       " [28.7, 80.2, 182.4335459806561],\n",
       " [26.9, 51.3, 175.92289046374898],\n",
       " [30.6, 73.9, 173.26017749013587],\n",
       " [28.8, 55.9, 173.40456853016397],\n",
       " [26.3, 48.9, 174.560680148749],\n",
       " [28.2, 77.2, 186.36276604089596],\n",
       " [30.8, 68.4, 171.87388174278414],\n",
       " [28.7, 62.6, 180.00204054174395],\n",
       " [28.7, 87.7, 177.44939250098096],\n",
       " [31.8, 75.1, 166.624466829144],\n",
       " [23.6, 47.5, 183.76241383769997],\n",
       " [27.8, 88.5, 182.36215925979985],\n",
       " [28.4, 63.4, 182.0938251485759],\n",
       " [29.8, 69.9, 177.43246910770407],\n",
       " [29.5, 52.8, 166.55234702989992],\n",
       " [29.6, 67.0, 177.69629984640008],\n",
       " [24.6, 55.5, 193.31572119979998],\n",
       " [29.4, 43.4, 152.2223948186559],\n",
       " [26.6, 94.0, 184.14439772640003],\n",
       " [25.7, 64.8, 197.67708393343597],\n",
       " [27.5, 80.3, 189.66285210332498],\n",
       " [30.6, 45.3, 151.217643550424],\n",
       " [28.0, 48.9, 167.30287474729997],\n",
       " [29.3, 51.9, 166.24339904638896],\n",
       " [28.5, 73.5, 184.98415176312486],\n",
       " [26.9, 91.9, 184.6781066762611],\n",
       " [26.9, 91.4, 185.23827554929593],\n",
       " [26.5, 92.8, 186.28989525029996],\n",
       " [24.4, 49.7, 184.540649659924],\n",
       " [29.5, 32.1, 126.86463756972496],\n",
       " [31.2, 74.0, 170.0157147256],\n",
       " [31.4, 49.3, 154.168637188344],\n",
       " [28.5, 75.2, 184.9134082278999],\n",
       " [24.6, 52.8, 189.09595413334395],\n",
       " [29.4, 60.2, 174.69895461654397],\n",
       " [26.5, 88.7, 190.59863427092503],\n",
       " [27.6, 67.8, 188.809256374784],\n",
       " [31.1, 74.3, 170.50912815082893],\n",
       " [28.5, 81.2, 183.17940336189992],\n",
       " [23.0, 58.8, 206.4704475111999],\n",
       " [29.3, 71.0, 180.31715849079993],\n",
       " [31.4, 71.9, 169.11666544549604],\n",
       " [29.6, 83.7, 175.1517781761639],\n",
       " [29.0, 58.3, 174.95427928379993],\n",
       " [28.7, 43.1, 154.171837778509],\n",
       " [28.3, 62.1, 181.68245728106893],\n",
       " [30.7, 77.5, 171.93326915392498],\n",
       " [29.6, 75.3, 178.61509645584397],\n",
       " [28.8, 86.3, 178.03849027915604],\n",
       " [30.0, 68.6, 176.09002936480002],\n",
       " [30.4, 75.6, 174.09755577449593],\n",
       " [29.9, 67.6, 176.33151568719597],\n",
       " [28.8, 75.1, 183.19243822616397],\n",
       " [28.4, 82.8, 182.9353548317439],\n",
       " [24.0, 64.4, 207.0731498152],\n",
       " [26.8, 44.7, 164.513416079876],\n",
       " [28.3, 70.6, 185.79472003262393],\n",
       " [30.4, 84.8, 169.65527774310402],\n",
       " [30.2, 74.2, 175.41467007273607],\n",
       " [24.7, 58.7, 197.12284616370096],\n",
       " [24.1, 66.1, 207.8830852046609],\n",
       " [29.1, 71.7, 181.50251456066903],\n",
       " [29.2, 80.5, 179.33686545569998],\n",
       " [31.1, 72.1, 170.68998041222096],\n",
       " [28.6, 51.7, 168.99625055090394],\n",
       " [26.5, 57.2, 186.0065924083001],\n",
       " [31.2, 73.3, 170.09515597635612],\n",
       " [31.0, 72.7, 171.20104016940004],\n",
       " [27.1, 87.5, 187.74111172832497],\n",
       " [29.6, 77.9, 178.01538121483594],\n",
       " [28.7, 84.2, 180.22305609889605],\n",
       " [30.5, 74.1, 173.78265278792495],\n",
       " [28.1, 80.2, 186.03898098590395],\n",
       " [24.3, 44.1, 173.24684915078893],\n",
       " [30.2, 59.9, 170.61306139458404],\n",
       " [27.3, 87.2, 186.70668043519595],\n",
       " [25.5, 50.4, 180.77112467629993],\n",
       " [30.0, 54.7, 166.61955919770006],\n",
       " [28.0, 84.5, 184.32784110250006],\n",
       " [23.6, 60.9, 205.77666346555594],\n",
       " [28.7, 87.1, 177.98052354882898],\n",
       " [28.3, 65.2, 183.722526197916],\n",
       " [27.9, 84.1, 185.215482583341],\n",
       " [24.4, 42.5, 169.08919424769996],\n",
       " [30.0, 71.0, 176.51157639999997],\n",
       " [29.0, 81.0, 180.28353117999993],\n",
       " [28.6, 82.3, 182.004802868184],\n",
       " [27.5, 87.4, 185.25778012680013],\n",
       " [27.5, 84.1, 187.7173921979251],\n",
       " [26.1, 51.4, 179.71459845009602],\n",
       " [30.8, 45.0, 149.99920714479995],\n",
       " [29.2, 75.2, 180.893882347936],\n",
       " [30.7, 72.8, 172.79999927815592],\n",
       " [31.0, 77.6, 170.2397780536],\n",
       " [26.1, 60.5, 191.71976217692503],\n",
       " [30.9, 67.9, 171.24296238626104],\n",
       " [27.0, 55.8, 181.82113743440001],\n",
       " [25.9, 61.3, 193.5768688156289],\n",
       " [29.0, 72.7, 182.13078337980005],\n",
       " [27.2, 92.5, 182.0080910192999],\n",
       " [27.5, 68.5, 189.65338892812505],\n",
       " [28.9, 65.6, 180.76340075647596],\n",
       " [26.5, 47.3, 170.78596916492498],\n",
       " [26.5, 91.4, 187.88823637719992],\n",
       " [27.3, 48.6, 169.74624325630398],\n",
       " [31.2, 71.2, 170.15621929881604],\n",
       " [30.5, 74.5, 173.732910118125],\n",
       " [29.4, 67.4, 178.89472828297596],\n",
       " [28.5, 83.9, 181.6444102827249],\n",
       " [29.5, 63.5, 176.5205765631249],\n",
       " [31.8, 70.8, 167.03730354185603],\n",
       " [26.9, 90.3, 186.41201038918905],\n",
       " [29.4, 85.7, 174.8761528374639],\n",
       " [27.6, 85.0, 186.4868126711999],\n",
       " [23.6, 66.5, 211.16763814689995],\n",
       " [30.1, 54.5, 165.95494876352507],\n",
       " [30.6, 72.5, 173.34581997819993],\n",
       " [30.4, 77.7, 173.5417495873641],\n",
       " [28.9, 76.2, 182.46229814542406],\n",
       " [25.7, 85.4, 198.49560920286393],\n",
       " [28.1, 62.9, 183.30524893818097],\n",
       " [28.3, 86.7, 180.80054341198098],\n",
       " [27.8, 85.8, 184.64520900169597],\n",
       " [29.5, 74.5, 179.27531057812493],\n",
       " [28.4, 47.2, 162.819488380704],\n",
       " [27.0, 56.8, 183.0488041704],\n",
       " [30.8, 74.0, 172.1656979296],\n",
       " [25.2, 69.8, 203.52444593065587],\n",
       " [31.0, 33.6, 126.75692184559998],\n",
       " [24.6, 39.2, 160.07270585238402],\n",
       " [29.3, 73.9, 180.44189150442895],\n",
       " [28.3, 84.8, 182.26072841767592],\n",
       " [29.1, 69.1, 181.02886329302098],\n",
       " [27.8, 59.2, 181.69327183113592],\n",
       " [28.2, 88.5, 179.83078002379986],\n",
       " [28.5, 75.0, 184.93136944999992],\n",
       " [28.1, 83.0, 184.65659783079994],\n",
       " [28.0, 89.2, 180.42000298320008],\n",
       " [29.1, 66.5, 180.12682731152498],\n",
       " [30.6, 70.6, 173.27028591945594],\n",
       " [26.5, 93.4, 185.56455400920004],\n",
       " [27.6, 90.8, 181.32877798086398],\n",
       " [25.9, 56.8, 188.52132740948394],\n",
       " [31.2, 72.2, 170.16030249097602],\n",
       " [25.1, 64.5, 200.83560418652493],\n",
       " [27.1, 54.8, 180.051293353564],\n",
       " [28.3, 71.8, 185.9995805614559],\n",
       " [23.4, 34.8, 151.66479693766397],\n",
       " [30.1, 67.0, 175.0923117204001],\n",
       " [28.5, 55.2, 173.98677214789996],\n",
       " [26.1, 67.8, 197.2900729948639],\n",
       " [28.8, 88.4, 176.180975388064],\n",
       " [28.9, 59.0, 176.09194408840003],\n",
       " [30.5, 70.2, 173.75351993320004],\n",
       " [32.0, 69.9, 165.97039336210014],\n",
       " [25.9, 92.9, 190.21910530386086],\n",
       " [27.6, 82.7, 187.92126489216406],\n",
       " [26.9, 89.5, 187.21499495752505],\n",
       " [28.2, 49.6, 167.584556990784],\n",
       " [27.2, 92.9, 181.5295549051239],\n",
       " [28.5, 49.6, 166.32141851909995],\n",
       " [31.3, 71.7, 169.64158094770107],\n",
       " [31.0, 64.3, 169.46468020140006],\n",
       " [25.2, 61.2, 197.2591264242559],\n",
       " [26.8, 68.8, 193.73587838217605],\n",
       " [27.4, 58.0, 182.44338895679996],\n",
       " [30.3, 71.9, 174.955259783149],\n",
       " [29.1, 86.2, 176.28767105342394],\n",
       " [29.3, 69.7, 180.08904654410097],\n",
       " [28.3, 83.0, 183.4291025211999],\n",
       " [25.9, 36.4, 148.29970129551597],\n",
       " [25.9, 59.0, 191.16528949239998],\n",
       " [27.2, 62.7, 187.876882395316],\n",
       " [27.1, 46.2, 166.24856005246397],\n",
       " [27.4, 63.6, 187.49202352601597],\n",
       " [30.1, 70.9, 175.963591107261],\n",
       " [28.3, 82.6, 183.660338211984],\n",
       " [28.8, 85.4, 178.74842043270388],\n",
       " [29.3, 85.3, 175.79090645006096],\n",
       " [29.2, 68.5, 180.32061572129993],\n",
       " [29.6, 44.1, 152.78575343875593],\n",
       " [27.4, 91.6, 181.74156170457596],\n",
       " [28.5, 75.5, 184.88164716812497],\n",
       " [30.6, 46.5, 153.1481147414],\n",
       " [25.1, 37.3, 153.312281471229],\n",
       " [24.8, 68.8, 205.44415830009598],\n",
       " [28.7, 57.2, 175.284047379676],\n",
       " [27.4, 92.7, 180.46111600450394],\n",
       " [31.1, 57.3, 164.30346817750905],\n",
       " [31.8, 68.1, 166.735010209784],\n",
       " [24.8, 35.5, 149.3012577956999],\n",
       " [27.2, 54.7, 179.44514998443594],\n",
       " [28.4, 56.9, 176.39063966395588],\n",
       " [29.6, 52.3, 165.48066917336394],\n",
       " [28.7, 81.2, 181.976864647516],\n",
       " [26.2, 82.2, 197.03638825577596],\n",
       " [30.9, 72.9, 171.72394094266102],\n",
       " [24.9, 67.3, 203.99028197706897],\n",
       " [30.9, 73.9, 171.63794603054106],\n",
       " [25.7, 93.6, 190.74143491020396],\n",
       " [25.9, 63.7, 195.70905699858895],\n",
       " [24.8, 55.1, 191.71530361272397],\n",
       " [28.6, 65.8, 182.44781061974402],\n",
       " [31.7, 73.3, 167.45471297006102],\n",
       " [29.3, 81.3, 178.356354027901],\n",
       " [29.0, 84.1, 178.47123125820005],\n",
       " [30.8, 72.2, 172.28009652553607],\n",
       " [29.3, 52.3, 166.77404124854095],\n",
       " [28.7, 60.3, 178.220545038661],\n",
       " [29.5, 69.8, 179.02776878439997],\n",
       " [29.6, 55.0, 168.7390355471999],\n",
       " [24.2, 57.0, 197.52829952560003],\n",
       " [31.6, 71.8, 168.0758363341439],\n",
       " [30.3, 72.6, 174.962398569104],\n",
       " [30.3, 56.5, 167.16073138672496],\n",
       " [26.3, 95.4, 184.32375295950385],\n",
       " [30.4, 76.4, 173.91777982537593],\n",
       " [24.1, 65.2, 207.17231762468398],\n",
       " [28.2, 83.6, 183.6777355815039],\n",
       " [30.0, 74.9, 176.43434121730007],\n",
       " [28.2, 83.7, 183.61475436773597],\n",
       " [29.6, 61.1, 174.41941962379607],\n",
       " [31.1, 69.2, 170.48143437180406],\n",
       " [26.0, 56.4, 187.5050703136],\n",
       " [28.6, 54.3, 172.43510239330396],\n",
       " [30.4, 75.7, 174.07723491728396],\n",
       " [30.7, 74.9, 172.5793277672291],\n",
       " [28.2, 41.4, 152.50880690518395],\n",
       " [31.7, 72.8, 167.50365845791595],\n",
       " [29.7, 65.4, 176.508393577424],\n",
       " [27.1, 44.9, 163.735238195821],\n",
       " [31.0, 49.5, 156.004270115],\n",
       " [26.5, 68.4, 195.28200604670008],\n",
       " [26.8, 90.1, 187.27353984104403],\n",
       " [28.6, 68.2, 183.46808923286397],\n",
       " [30.3, 75.0, 174.75769470679995],\n",
       " [28.5, 72.9, 184.96478318472487],\n",
       " [31.1, 70.0, 170.5897325967],\n",
       " [24.9, 44.7, 172.138153956509],\n",
       " [31.0, 66.8, 170.4282630664],\n",
       " [29.9, 70.9, 177.040109145021],\n",
       " [29.5, 38.3, 141.573808498525],\n",
       " [30.0, 75.3, 176.3730591197],\n",
       " [27.2, 44.5, 162.5513534961],\n",
       " [31.8, 69.2, 166.91045610889608],\n",
       " [26.3, 72.1, 197.6834389619489],\n",
       " [30.9, 71.3, 171.73521396982915],\n",
       " [28.2, 84.2, 183.29014324681603],\n",
       " [27.6, 60.4, 183.83840170809603],\n",
       " [26.1, 75.6, 199.2475003135159],\n",
       " [24.4, 57.3, 196.89199617928406],\n",
       " [30.4, 67.5, 173.70242404369998],\n",
       " [26.3, 56.1, 185.626375355869],\n",
       " [29.3, 71.6, 180.38648767716396],\n",
       " [30.9, 67.0, 170.99514754440014],\n",
       " [27.3, 78.7, 191.41960403426094],\n",
       " [29.1, 80.6, 179.88087293377595],\n",
       " [24.3, 74.1, 210.40397591018902],\n",
       " [31.7, 74.8, 167.21852898519603],\n",
       " [28.6, 43.0, 154.33806908879993],\n",
       " [23.2, 41.5, 171.2996925141],\n",
       " [29.6, 64.2, 176.41300403478397],\n",
       " [24.1, 69.7, 210.1523512021889],\n",
       " [27.7, 86.4, 184.81054929196404],\n",
       " [29.4, 75.8, 179.66671065654393],\n",
       " [30.9, 72.5, 171.74133444932505],\n",
       " [27.0, 50.3, 173.8805781814001],\n",
       " [28.1, 84.6, 183.63839786593596],\n",
       " [26.4, 89.2, 190.79517308534412],\n",
       " [27.1, 54.6, 179.78602049201604],\n",
       " [26.8, 51.0, 175.89693757279994],\n",
       " [30.1, 70.2, 175.8765361828641],\n",
       " [28.3, 76.7, 185.87136070938098],\n",
       " [26.6, 60.1, 188.69718642021593],\n",
       " [28.9, 55.3, 172.25995145082894],\n",
       " [31.2, 70.1, 170.08208976144408],\n",
       " [31.7, 71.3, 167.56114740018106],\n",
       " [28.3, 72.1, 186.03627143286892],\n",
       " [30.9, 75.4, 171.395084522736],\n",
       " [27.9, 87.9, 182.276729918621],\n",
       " [27.3, 84.8, 188.52077634943598],\n",
       " [30.0, 58.5, 170.39929321249994],\n",
       " [28.2, 85.4, 182.44508220246388],\n",
       " [26.5, 95.4, 182.97195230119993],\n",
       " [23.7, 58.2, 201.83491319633598],\n",
       " [30.3, 72.4, 174.96343928828406],\n",
       " [28.6, 83.5, 181.2917516742],\n",
       " [29.5, 87.1, 173.09637157972494],\n",
       " [28.5, 81.8, 182.87877529239995],\n",
       " [29.5, 76.3, 179.00284172152493],\n",
       " [31.1, 70.9, 170.66533269938105],\n",
       " [28.4, 84.7, 181.71455222720394],\n",
       " [26.6, 64.5, 192.45978226540004],\n",
       " [30.8, 73.3, 172.2336236153161],\n",
       " [28.9, 77.9, 182.06914022970102],\n",
       " [22.4, 60.4, 211.9655986906561],\n",
       " [27.2, 89.3, 185.45515148035594],\n",
       " [27.1, 90.0, 185.41030262869995],\n",
       " [28.4, 52.4, 170.848274730496],\n",
       " [30.9, 71.9, 171.74920564698107],\n",
       " [29.3, 34.8, 134.12071662871597],\n",
       " [23.9, 55.9, 197.50370706014095],\n",
       " [27.1, 63.5, 189.02252468432496],\n",
       " [31.3, 73.6, 169.53250869644395],\n",
       " [24.9, 33.3, 142.576558138229],\n",
       " [29.8, 65.1, 175.85425173682404],\n",
       " [31.8, 73.9, 166.85019775970403],\n",
       " [27.2, 91.8, 182.82004780345596],\n",
       " [29.9, 65.1, 175.34379694902103],\n",
       " [24.0, 58.3, 200.35320926129998],\n",
       " [24.8, 49.0, 181.38830116559996],\n",
       " [29.1, 72.7, 181.57062118950898],\n",
       " [29.2, 81.5, 178.8439357320999],\n",
       " [30.6, 52.9, 161.956343932056],\n",
       " [27.9, 56.2, 177.98399313950398],\n",
       " [29.4, 51.0, 164.5903488871999],\n",
       " [25.7, 53.2, 184.43652695415597],\n",
       " [28.3, 74.4, 186.124556825804],\n",
       " [26.3, 97.2, 181.76619558895584],\n",
       " [28.3, 77.0, 185.8131597436],\n",
       " [31.2, 32.5, 123.68167735529998],\n",
       " [27.4, 91.1, 182.29722734581597],\n",
       " [28.4, 82.1, 183.32651632411597],\n",
       " [23.7, 64.4, 208.82322505476395],\n",
       " [30.0, 72.4, 176.59243344480006],\n",
       " [28.2, 54.0, 173.88049024159997],\n",
       " [26.0, 98.2, 182.30538171839993],\n",
       " [28.5, 80.5, 183.5008994681249],\n",
       " [24.0, 64.2, 206.89470885679995],\n",
       " [25.1, 54.8, 189.772350725404],\n",
       " [28.4, 55.1, 174.33019607347592],\n",
       " [29.8, 75.9, 177.385403204024],\n",
       " [24.4, 48.6, 182.41615653017595],\n",
       " [29.3, 84.3, 176.526882161821],\n",
       " [27.6, 58.2, 181.667944573184],\n",
       " [30.0, 79.7, 175.0437382477],\n",
       " [30.3, 71.5, 174.93762683872498],\n",
       " [28.3, 45.8, 160.749283857616],\n",
       " [31.2, 72.4, 170.1538840098241],\n",
       " [28.7, 75.3, 183.74673175326103],\n",
       " [23.1, 64.5, 212.45232576552505],\n",
       " [25.8, 94.8, 188.533972894976],\n",
       " [31.0, 77.1, 170.4045087326],\n",
       " [28.9, 57.4, 174.541824197136],\n",
       " [31.8, 71.3, 167.04574800997614],\n",
       " [27.9, 79.7, 187.443032020069],\n",
       " [30.1, 73.4, 176.0268995683361],\n",
       " [29.3, 69.0, 179.9220639196],\n",
       " [25.2, 70.8, 203.92090903289593],\n",
       " [29.7, 74.0, 178.19891802909993],\n",
       " [28.2, 87.4, 180.82960601750403],\n",
       " [31.8, 69.3, 166.92284055269602],\n",
       " [28.2, 75.4, 186.64044229526388],\n",
       " [31.3, 71.4, 169.638954380624],\n",
       " [25.6, 66.7, 199.54306801016406],\n",
       " [27.4, 92.3, 180.935956918744],\n",
       " [27.6, 54.8, 177.68918035110408],\n",
       " [29.3, 71.7, 180.39583488582102],\n",
       " [28.2, 82.5, 184.32782670379993],\n",
       " [28.5, 71.3, 184.80004245752502],\n",
       " [27.2, 51.3, 174.57898881283592],\n",
       " [26.0, 57.0, 188.27064393999999],\n",
       " [31.8, 69.1, 166.89747746786412],\n",
       " [26.3, 50.1, 176.64806684638907],\n",
       " [27.0, 90.4, 185.6528892456],\n",
       " [26.1, 90.2, 191.82011064414402],\n",
       " [28.2, 86.8, 181.3414230188159],\n",
       " [25.5, 75.5, 202.97449634312503],\n",
       " [29.1, 66.8, 180.25277121564392],\n",
       " [26.3, 47.6, 172.18961004156404],\n",
       " [31.1, 58.9, 165.63213177242105],\n",
       " [31.0, 73.8, 171.11186777840012],\n",
       " [25.8, 53.3, 184.11220113781596],\n",
       " [30.0, 69.7, 176.3276021277],\n",
       " [28.2, 78.7, 185.97123580293592],\n",
       " [29.1, 79.4, 180.39229304449594],\n",
       " [27.3, 91.6, 182.39293005764398],\n",
       " [29.7, 62.9, 175.14994729174904],\n",
       " [30.6, 79.6, 171.67374625113592],\n",
       " [29.2, 86.6, 175.346557900384],\n",
       " [24.8, 94.3, 196.12065879531596],\n",
       " [27.3, 46.0, 165.06690890430002],\n",
       " [27.6, 38.9, 149.01873106747595],\n",
       " [25.6, 94.6, 190.16924913033606],\n",
       " [28.1, 84.8, 183.49945013964404],\n",
       " [31.8, 69.4, 166.93463079926406],\n",
       " [29.9, 73.4, 177.12601685809602],\n",
       " [28.1, 83.6, 184.29422739511594],\n",
       " [29.6, 65.6, 177.11603376313585],\n",
       " [26.2, 96.5, 183.46729868859995],\n",
       " [29.7, 78.0, 177.41052220670002],\n",
       " [28.4, 82.6, 183.05033547177598],\n",
       " [30.7, 70.7, 172.75156243638105],\n",
       " [31.2, 73.4, 170.08561600614408],\n",
       " [30.3, 68.0, 174.3628677547],\n",
       " [31.6, 70.3, 168.03742420160387],\n",
       " [26.1, 95.2, 185.95289480684403],\n",
       " [25.6, 59.4, 193.18477741577595],\n",
       " [28.3, 78.6, 185.404635142064],\n",
       " [29.6, 84.1, 174.87662151555594],\n",
       " [29.9, 64.5, 175.0489041585251],\n",
       " [28.9, 59.4, 176.45400786929594],\n",
       " [30.5, 72.9, 173.87301867092492],\n",
       " [27.6, 76.7, 190.03011119232403],\n",
       " [28.1, 86.7, 182.05007397478897],\n",
       " [26.6, 70.4, 195.46684313977602],\n",
       " [28.9, 78.2, 181.98065977710397],\n",
       " [28.8, 76.6, 182.966417491584],\n",
       " [31.6, 71.7, 168.07745525224402],\n",
       " [25.3, 48.7, 178.585918209381],\n",
       " [31.5, 67.1, 168.00512224832497],\n",
       " [27.5, 87.6, 185.0857040383001],\n",
       " [31.1, 79.0, 169.14275278440005],\n",
       " [28.0, 81.2, 186.2136853672],\n",
       " [28.9, 71.0, 182.52274012119992],\n",
       " [31.2, 74.8, 169.88874912681607],\n",
       " [23.6, 58.8, 203.17617864102388],\n",
       " [30.0, 74.0, 176.53592835999999],\n",
       " [30.5, 73.5, 173.8388723781249],\n",
       " [27.3, 88.2, 185.8385448798559],\n",
       " [28.1, 53.1, 173.1454280221809],\n",
       " [31.2, 60.1, 166.06194206864396],\n",
       " [28.3, 74.0, 186.13373270709994],\n",
       " [25.0, 66.9, 203.15029583179992],\n",
       " [28.7, 84.7, 179.87478901070108],\n",
       " [26.7, 95.8, 181.07541725553602],\n",
       " [31.7, 46.8, 149.52867643447598],\n",
       " [23.3, 53.3, 196.37557325034106],\n",
       " [26.7, 48.9, 172.827746925749],\n",
       " [26.8, 94.9, 181.63402729832407],\n",
       " [31.3, 70.3, 169.583010464541],\n",
       " [28.3, 82.9, 183.48787972794895],\n",
       " [28.3, 80.7, 184.6176610328209],\n",
       " [26.8, 44.8, 164.71480925001597],\n",
       " [28.6, 69.5, 183.86655916540005],\n",
       " [23.3, 91.2, 210.312392199676],\n",
       " [27.8, 89.1, 181.79017435602407],\n",
       " [27.1, 82.4, 191.21040069319605],\n",
       " [27.7, 69.8, 188.97064389505607],\n",
       " [26.8, 62.4, 189.75807664342403],\n",
       " [26.9, 59.8, 186.84623041598405],\n",
       " [28.1, 79.6, 186.2690604738359],\n",
       " [30.5, 73.6, 173.83103531429995],\n",
       " [27.7, 71.3, 189.3358615463411],\n",
       " [26.3, 59.0, 189.09443023959994],\n",
       " [29.1, 84.2, 177.799091310544],\n",
       " [29.6, 82.8, 175.73423947254398],\n",
       " [26.0, 71.6, 199.35674332959994],\n",
       " [30.6, 48.7, 156.45854185154394],\n",
       " [26.7, 87.6, 190.25334424156406],\n",
       " [29.6, 80.4, 177.03943692553605],\n",
       " [30.6, 73.1, 173.3237964872559],\n",
       " [28.2, 61.6, 181.80494820614396],\n",
       " [29.1, 86.0, 176.45021977269997],\n",
       " [27.3, 56.6, 181.3442423273439],\n",
       " [25.3, 58.7, 193.95247031598092],\n",
       " [26.8, 70.1, 194.20962653544404],\n",
       " [29.0, 64.4, 179.6022833152],\n",
       " [28.2, 85.2, 182.59239574457595],\n",
       " [27.9, 80.7, 187.04751737930894],\n",
       " [28.5, 79.7, 183.82976977652493],\n",
       " [28.9, 83.7, 179.34305374334897],\n",
       " [27.9, 87.2, 182.88876147924404],\n",
       " [27.5, 59.1, 183.09560504792503],\n",
       " ...]"
      ]
     },
     "execution_count": 41,
     "metadata": {},
     "output_type": "execute_result"
    }
   ],
   "source": [
    "X_train.values.tolist()"
   ]
  },
  {
   "cell_type": "code",
   "execution_count": null,
   "id": "Sc6NkbVfjYJt",
   "metadata": {
    "id": "Sc6NkbVfjYJt"
   },
   "outputs": [],
   "source": [
    "# Convert to Pandas Series if y_train is a NumPy array\n",
    "if isinstance(y_train, np.ndarray):\n",
    "    y_train = pd.Series(y_train)"
   ]
  },
  {
   "cell_type": "code",
   "execution_count": null,
   "id": "437734ae-7a8b-4634-9679-1c440212bd7f",
   "metadata": {
    "id": "437734ae-7a8b-4634-9679-1c440212bd7f",
    "outputId": "f59e4a62-01b9-4e24-d132-ab531b893554"
   },
   "outputs": [
    {
     "name": "stdout",
     "output_type": "stream",
     "text": [
      "[3, 2, 1, 2, 2, 1, 1, 2, 2, 2, 1, 2, 2, 2, 1, 2, 2, 3, 3, 1, 2, 2, 3, 3, 3, 2, 2, 2, 2, 1, 2, 1, 2, 1, 2, 3, 1, 1, 2, 2, 2, 3, 2, 2, 2, 2, 1, 2, 2, 2, 2, 1, 2, 1, 2, 2, 3, 2, 1, 1, 2, 1, 2, 1, 1, 2, 3, 3, 1, 3, 3, 2, 2, 1, 2, 1, 2, 2, 2, 2, 2, 1, 3, 3, 2, 2, 1, 2, 2, 2, 2, 2, 1, 2, 1, 2, 2, 1, 2, 1, 1, 2, 2, 2, 1, 1, 2, 2, 2, 2, 3, 2, 1, 2, 1, 2, 1, 2, 2, 1, 2, 2, 1, 1, 2, 1, 3, 2, 2, 2, 2, 3, 1, 2, 2, 2, 2, 3, 2, 1, 1, 3, 2, 2, 3, 2, 2, 2, 2, 2, 3, 2, 1, 1, 1, 2, 2, 2, 2, 2, 1, 2, 2, 1, 2, 2, 3, 2, 1, 1, 2, 2, 1, 3, 2, 1, 2, 1, 2, 1, 2, 2, 2, 2, 2, 1, 2, 2, 1, 2, 1, 2, 3, 2, 2, 1, 2, 2, 2, 2, 1, 1, 1, 2, 2, 2, 1, 2, 2, 2, 2, 1, 2, 2, 1, 2, 2, 2, 1, 2, 2, 3, 3, 1, 3, 1, 2, 2, 2, 3, 1, 2, 1, 2, 1, 2, 2, 3, 2, 2, 2, 3, 3, 1, 2, 2, 2, 1, 1, 1, 2, 2, 2, 1, 1, 1, 2, 1, 2, 2, 2, 1, 2, 2, 1, 2, 2, 3, 2, 2, 2, 1, 2, 2, 1, 3, 2, 1, 1, 2, 2, 1, 2, 2, 1, 1, 2, 2, 2, 1, 2, 3, 2, 3, 1, 1, 2, 2, 1, 2, 2, 2, 1, 2, 1, 2, 2, 2, 2, 1, 2, 1, 2, 1, 1, 3, 3, 2, 1, 2, 2, 3, 1, 2, 3, 2, 2, 1, 2, 2, 2, 1, 1, 2, 2, 2, 2, 2, 2, 1, 2, 1, 2, 3, 2, 1, 2, 1, 2, 2, 2, 1, 1, 2, 1, 1, 2, 2, 2, 2, 1, 1, 3, 2, 1, 1, 2, 1, 2, 2, 2, 3, 2, 1, 2, 2, 2, 2, 2, 1, 2, 2, 2, 3, 1, 2, 1, 1, 3, 1, 3, 1, 2, 2, 2, 2, 1, 2, 2, 2, 3, 3, 2, 2, 2, 1, 2, 3, 1, 1, 3, 2, 2, 1, 3, 2, 1, 2, 1, 3, 2, 2, 2, 2, 1, 1, 2, 2, 2, 2, 2, 2, 3, 2, 2, 3, 2, 2, 2, 1, 2, 2, 1, 3, 2, 3, 2, 2, 1, 2, 1, 2, 1, 2, 2, 2, 2, 2, 2, 2, 3, 2, 3, 2, 1, 3, 3, 2, 2, 2, 2, 2, 2, 2, 2, 2, 1, 3, 2, 1, 2, 2, 2, 3, 3, 2, 1, 3, 2, 2, 2, 2, 2, 3, 2, 2, 2, 1, 2, 1, 3, 3, 2, 1, 2, 3, 1, 2, 2, 1, 2, 3, 2, 3, 2, 2, 2, 2, 2, 2, 1, 1, 2, 2, 2, 2, 1, 2, 2, 3, 2, 2, 2, 1, 3, 1, 1, 2, 2, 2, 3, 2, 2, 2, 1, 2, 3, 1, 2, 2, 2, 2, 2, 3, 1, 2, 1, 3, 3, 2, 2, 1, 1, 1, 3, 3, 2, 3, 2, 2, 2, 1, 2, 2, 1, 2, 2, 2, 1, 2, 3, 2, 2, 2, 1, 2, 2, 2, 2, 1, 2, 3, 2, 1, 2, 2, 2, 2, 1, 2, 2, 2, 2, 2, 1, 2, 1, 2, 1, 3, 2, 1, 2, 2, 1, 2, 1, 2, 1, 3, 2, 1, 1, 1, 1, 2, 3, 2, 2, 2, 2, 2, 2, 2, 2, 1, 2, 2, 3, 1, 3, 2, 2, 2, 1, 2, 2, 1, 1, 1, 2, 2, 2, 2, 2, 1, 2, 1, 1, 2, 3, 2, 2, 2, 3, 3, 2, 1, 2, 2, 1, 2, 1, 1, 2, 2, 1, 1, 2, 2, 2, 2, 2, 3, 2, 2, 2, 1, 2, 2, 2, 1, 1, 1, 3, 1, 3, 2, 2, 2, 2, 2, 2, 1, 2, 1, 3, 2, 2, 3, 2, 2, 1, 1, 1, 2, 3, 1, 2, 3, 3, 2, 2, 1, 2, 2, 3, 2, 2, 2, 1, 1, 2, 2, 2, 1, 2, 2, 2, 2, 1, 1, 2, 2, 2, 2, 2, 2, 2, 2, 2, 1, 2, 2, 1, 2, 1, 2, 2, 2, 2, 2, 2, 3, 2, 2, 3, 3, 2, 1, 2, 2, 2, 2, 3, 2, 2, 3, 2, 3, 2, 2, 2, 1, 2, 2, 2, 2, 2, 2, 2, 2, 1, 2, 2, 3, 3, 2, 2, 1, 2, 2, 2, 1, 1, 2, 2, 2, 2, 2, 2, 2, 2, 2, 2, 1, 1, 2, 1, 1, 2, 2, 1, 1, 1, 2, 2, 1, 2, 2, 2, 2, 1, 1, 2, 2, 3, 2, 2, 2, 3, 2, 2, 1, 2, 2, 3, 2, 1, 2, 2, 2, 2, 2, 1, 2, 3, 1, 1, 2, 2, 2, 1, 1, 2, 2, 2, 2, 3, 1, 2, 2, 2, 3, 2, 2, 2, 1, 2, 2, 2, 2, 2, 2, 2, 2, 1, 2, 2, 2, 2, 1, 2, 2, 1, 2, 2, 2, 2, 2, 1, 1, 1, 2, 2, 3, 2, 2, 2, 2, 2, 2, 1, 2, 2, 1, 1, 3, 3, 1, 1, 2, 2, 1, 2, 1, 2, 1, 2, 2, 2, 2, 1, 2, 2, 1, 2, 2, 2, 2, 1, 2, 2, 2, 2, 3, 2, 1, 2, 1, 2, 2, 2, 2, 2, 1, 2, 2, 2, 2, 1, 1, 3, 2, 3, 1, 2, 1, 1, 3, 2, 0, 1, 1, 2, 2, 2, 2, 2, 2, 2, 1, 1, 2, 3, 1, 1, 2, 2, 1, 2, 2, 2, 2, 1, 1, 2, 1, 1, 2, 2, 1, 2, 1, 2, 2, 2, 3, 1, 3, 1, 2, 1, 2, 1, 3, 1, 2, 1, 3, 1, 2, 2, 1, 2, 2, 2, 2, 1, 1, 2, 2, 3, 1, 3, 1, 3, 3, 2, 2, 2, 2, 1, 3, 1, 1, 1, 2, 2, 2, 3, 2, 2, 2, 3, 3, 1, 3, 1, 2, 2, 2, 2, 1, 2, 2, 2, 3, 3, 1, 2, 2, 3, 2, 1, 3, 2, 1, 2, 2, 2, 2, 2, 2, 1, 2, 1, 2, 2, 2, 2, 2, 2, 2, 1, 3, 2, 3, 2, 1, 2, 1, 1, 1, 2, 2, 1, 2, 2, 1, 2, 2, 2, 2, 2, 2, 1, 2, 2, 2, 3, 2, 1, 2, 2, 1, 1, 1, 2, 2, 1, 2, 3, 1, 3, 1, 2, 2, 3, 1, 2, 2, 2, 2, 1, 1, 1, 2, 2, 2, 1, 1, 1, 2, 2, 2, 2, 1, 2, 2, 1, 3, 2, 2, 2, 1, 1, 2, 3, 2, 2, 2, 2, 2, 2, 1, 2, 1, 2, 2, 2, 2, 2, 2, 1, 2, 2, 1, 2, 3, 3, 2, 2, 2, 3]\n"
     ]
    }
   ],
   "source": [
    "# Now you can use y_train.values.tolist() if necessary\n",
    "y_train_list = y_train.values.tolist()\n",
    "print(y_train_list)"
   ]
  },
  {
   "cell_type": "code",
   "execution_count": null,
   "id": "01aa50dd-9ffe-430a-9325-78fb8a3dec0e",
   "metadata": {
    "id": "01aa50dd-9ffe-430a-9325-78fb8a3dec0e",
    "outputId": "0bfc92aa-a318-4067-8541-e4984ef1827b"
   },
   "outputs": [
    {
     "data": {
      "text/html": [
       "<style>#sk-container-id-1 {color: black;}#sk-container-id-1 pre{padding: 0;}#sk-container-id-1 div.sk-toggleable {background-color: white;}#sk-container-id-1 label.sk-toggleable__label {cursor: pointer;display: block;width: 100%;margin-bottom: 0;padding: 0.3em;box-sizing: border-box;text-align: center;}#sk-container-id-1 label.sk-toggleable__label-arrow:before {content: \"▸\";float: left;margin-right: 0.25em;color: #696969;}#sk-container-id-1 label.sk-toggleable__label-arrow:hover:before {color: black;}#sk-container-id-1 div.sk-estimator:hover label.sk-toggleable__label-arrow:before {color: black;}#sk-container-id-1 div.sk-toggleable__content {max-height: 0;max-width: 0;overflow: hidden;text-align: left;background-color: #f0f8ff;}#sk-container-id-1 div.sk-toggleable__content pre {margin: 0.2em;color: black;border-radius: 0.25em;background-color: #f0f8ff;}#sk-container-id-1 input.sk-toggleable__control:checked~div.sk-toggleable__content {max-height: 200px;max-width: 100%;overflow: auto;}#sk-container-id-1 input.sk-toggleable__control:checked~label.sk-toggleable__label-arrow:before {content: \"▾\";}#sk-container-id-1 div.sk-estimator input.sk-toggleable__control:checked~label.sk-toggleable__label {background-color: #d4ebff;}#sk-container-id-1 div.sk-label input.sk-toggleable__control:checked~label.sk-toggleable__label {background-color: #d4ebff;}#sk-container-id-1 input.sk-hidden--visually {border: 0;clip: rect(1px 1px 1px 1px);clip: rect(1px, 1px, 1px, 1px);height: 1px;margin: -1px;overflow: hidden;padding: 0;position: absolute;width: 1px;}#sk-container-id-1 div.sk-estimator {font-family: monospace;background-color: #f0f8ff;border: 1px dotted black;border-radius: 0.25em;box-sizing: border-box;margin-bottom: 0.5em;}#sk-container-id-1 div.sk-estimator:hover {background-color: #d4ebff;}#sk-container-id-1 div.sk-parallel-item::after {content: \"\";width: 100%;border-bottom: 1px solid gray;flex-grow: 1;}#sk-container-id-1 div.sk-label:hover label.sk-toggleable__label {background-color: #d4ebff;}#sk-container-id-1 div.sk-serial::before {content: \"\";position: absolute;border-left: 1px solid gray;box-sizing: border-box;top: 0;bottom: 0;left: 50%;z-index: 0;}#sk-container-id-1 div.sk-serial {display: flex;flex-direction: column;align-items: center;background-color: white;padding-right: 0.2em;padding-left: 0.2em;position: relative;}#sk-container-id-1 div.sk-item {position: relative;z-index: 1;}#sk-container-id-1 div.sk-parallel {display: flex;align-items: stretch;justify-content: center;background-color: white;position: relative;}#sk-container-id-1 div.sk-item::before, #sk-container-id-1 div.sk-parallel-item::before {content: \"\";position: absolute;border-left: 1px solid gray;box-sizing: border-box;top: 0;bottom: 0;left: 50%;z-index: -1;}#sk-container-id-1 div.sk-parallel-item {display: flex;flex-direction: column;z-index: 1;position: relative;background-color: white;}#sk-container-id-1 div.sk-parallel-item:first-child::after {align-self: flex-end;width: 50%;}#sk-container-id-1 div.sk-parallel-item:last-child::after {align-self: flex-start;width: 50%;}#sk-container-id-1 div.sk-parallel-item:only-child::after {width: 0;}#sk-container-id-1 div.sk-dashed-wrapped {border: 1px dashed gray;margin: 0 0.4em 0.5em 0.4em;box-sizing: border-box;padding-bottom: 0.4em;background-color: white;}#sk-container-id-1 div.sk-label label {font-family: monospace;font-weight: bold;display: inline-block;line-height: 1.2em;}#sk-container-id-1 div.sk-label-container {text-align: center;}#sk-container-id-1 div.sk-container {/* jupyter's `normalize.less` sets `[hidden] { display: none; }` but bootstrap.min.css set `[hidden] { display: none !important; }` so we also need the `!important` here to be able to override the default hidden behavior on the sphinx rendered scikit-learn.org. See: https://github.com/scikit-learn/scikit-learn/issues/21755 */display: inline-block !important;position: relative;}#sk-container-id-1 div.sk-text-repr-fallback {display: none;}</style><div id=\"sk-container-id-1\" class=\"sk-top-container\"><div class=\"sk-text-repr-fallback\"><pre>DecisionTreeClassifier(random_state=0)</pre><b>In a Jupyter environment, please rerun this cell to show the HTML representation or trust the notebook. <br />On GitHub, the HTML representation is unable to render, please try loading this page with nbviewer.org.</b></div><div class=\"sk-container\" hidden><div class=\"sk-item\"><div class=\"sk-estimator sk-toggleable\"><input class=\"sk-toggleable__control sk-hidden--visually\" id=\"sk-estimator-id-1\" type=\"checkbox\" checked><label for=\"sk-estimator-id-1\" class=\"sk-toggleable__label sk-toggleable__label-arrow\">DecisionTreeClassifier</label><div class=\"sk-toggleable__content\"><pre>DecisionTreeClassifier(random_state=0)</pre></div></div></div></div></div>"
      ],
      "text/plain": [
       "DecisionTreeClassifier(random_state=0)"
      ]
     },
     "execution_count": 44,
     "metadata": {},
     "output_type": "execute_result"
    }
   ],
   "source": [
    "weather_classifier = DecisionTreeClassifier(random_state = 0)\n",
    "weather_classifier.fit(X_train, y_train)"
   ]
  },
  {
   "cell_type": "code",
   "execution_count": null,
   "id": "82c869a1-bb28-48ee-996f-52ab26ec0cbc",
   "metadata": {
    "id": "82c869a1-bb28-48ee-996f-52ab26ec0cbc",
    "outputId": "a38bc68b-7ea6-453c-a92c-84bf334afd77"
   },
   "outputs": [
    {
     "data": {
      "text/plain": [
       "sklearn.tree._classes.DecisionTreeClassifier"
      ]
     },
     "execution_count": 45,
     "metadata": {},
     "output_type": "execute_result"
    }
   ],
   "source": [
    "type(weather_classifier)"
   ]
  },
  {
   "cell_type": "markdown",
   "id": "vULqmNvVF4q4",
   "metadata": {
    "id": "vULqmNvVF4q4"
   },
   "source": [
    "### **5. Model Evaluation**\n",
    "Evaluate the model's performance using metrics such as accuracy, precision, recall, and F1-score."
   ]
  },
  {
   "cell_type": "code",
   "execution_count": null,
   "id": "lYjAaucHjeij",
   "metadata": {
    "id": "lYjAaucHjeij"
   },
   "outputs": [],
   "source": [
    "# Make predictions\n",
    "y_pred_array = weather_classifier.predict(X_test)"
   ]
  },
  {
   "cell_type": "code",
   "execution_count": null,
   "id": "68E1R0hGjee_",
   "metadata": {
    "id": "68E1R0hGjee_"
   },
   "outputs": [],
   "source": [
    "# Ensure y_test is a Pandas Series to access its index\n",
    "if isinstance(y_test, np.ndarray):\n",
    "    y_test = pd.Series(y_test)"
   ]
  },
  {
   "cell_type": "code",
   "execution_count": null,
   "id": "UL0yIOXcjeYi",
   "metadata": {
    "id": "UL0yIOXcjeYi"
   },
   "outputs": [],
   "source": [
    "# Create DataFrame from the predictions\n",
    "y_pred = pd.DataFrame(y_pred_array, columns=[\"weather\"])"
   ]
  },
  {
   "cell_type": "code",
   "execution_count": null,
   "id": "chg9gMVRjkH9",
   "metadata": {
    "id": "chg9gMVRjkH9"
   },
   "outputs": [],
   "source": [
    "# Set the index of the DataFrame to match y_test index\n",
    "y_pred.index = y_test.index"
   ]
  },
  {
   "cell_type": "code",
   "execution_count": null,
   "id": "acb6ff0f-e48c-4184-9cd7-75281b5a5c9b",
   "metadata": {
    "id": "acb6ff0f-e48c-4184-9cd7-75281b5a5c9b"
   },
   "outputs": [],
   "source": [
    "# Ensure the data type is int\n",
    "y_pred = y_pred.astype(int)"
   ]
  },
  {
   "cell_type": "code",
   "execution_count": null,
   "id": "rHo5wG80jpeR",
   "metadata": {
    "id": "rHo5wG80jpeR",
    "outputId": "1af26bdc-025b-44d1-bffc-c45a31690b8f"
   },
   "outputs": [
    {
     "name": "stdout",
     "output_type": "stream",
     "text": [
      "      weather\n",
      "571         1\n",
      "1369        2\n",
      "1394        2\n",
      "115         2\n",
      "456         2\n",
      "...       ...\n",
      "1730        2\n",
      "873         2\n",
      "1083        3\n",
      "1733        2\n",
      "329         3\n",
      "\n",
      "[513 rows x 1 columns]\n"
     ]
    }
   ],
   "source": [
    "print(y_pred)"
   ]
  },
  {
   "cell_type": "code",
   "execution_count": null,
   "id": "65aab513-c6cf-4489-96f9-7d750754233e",
   "metadata": {
    "id": "65aab513-c6cf-4489-96f9-7d750754233e"
   },
   "outputs": [],
   "source": [
    "y_test = np.array(y_test,dtype = int)"
   ]
  },
  {
   "cell_type": "code",
   "execution_count": null,
   "id": "05ca175a-a41b-42c3-92bc-97375c6aab73",
   "metadata": {
    "id": "05ca175a-a41b-42c3-92bc-97375c6aab73",
    "outputId": "a8a8d78d-a60a-43c3-e47f-a639693c2581"
   },
   "outputs": [
    {
     "data": {
      "text/plain": [
       "numpy.ndarray"
      ]
     },
     "execution_count": 53,
     "metadata": {},
     "output_type": "execute_result"
    }
   ],
   "source": [
    "type(y_test)"
   ]
  },
  {
   "cell_type": "code",
   "execution_count": null,
   "id": "c1e80c44-e162-4ca1-83a5-13f64b036b19",
   "metadata": {
    "id": "c1e80c44-e162-4ca1-83a5-13f64b036b19",
    "outputId": "dc82542c-f329-43da-ceb9-f250d80dc13b"
   },
   "outputs": [
    {
     "data": {
      "text/plain": [
       "array([1, 2, 2, 2, 2, 2, 2, 1, 2, 1, 2, 2, 2, 1, 2, 1, 1, 3, 1, 3, 1, 3,\n",
       "       2, 1, 1, 2, 1, 1, 2, 2, 1, 2, 1, 2, 2, 2, 1, 1, 1, 1, 3, 2, 2, 2,\n",
       "       2, 2, 3, 3, 3, 1, 1, 2, 2, 2, 1, 2, 3, 2, 2, 1, 1, 1, 3, 1, 3, 2,\n",
       "       2, 1, 1, 2, 2, 1, 3, 2, 2, 2, 2, 2, 2, 3, 1, 2, 2, 2, 1, 1, 3, 2,\n",
       "       2, 2, 1, 2, 2, 1, 1, 2, 3, 2, 2, 3, 1, 2, 2, 1, 2, 2, 1, 2, 3, 2,\n",
       "       2, 2, 2, 1, 1, 2, 2, 3, 2, 2, 2, 2, 2, 1, 1, 2, 1, 2, 2, 2, 2, 2,\n",
       "       2, 2, 2, 2, 2, 2, 2, 2, 2, 2, 2, 2, 2, 2, 2, 2, 3, 2, 1, 2, 2, 3,\n",
       "       2, 2, 2, 1, 2, 1, 3, 1, 2, 3, 1, 1, 2, 1, 2, 3, 3, 2, 2, 2, 2, 2,\n",
       "       2, 2, 2, 3, 2, 2, 2, 2, 2, 1, 2, 3, 3, 3, 1, 2, 3, 2, 2, 2, 2, 1,\n",
       "       1, 2, 2, 2, 2, 2, 3, 2, 2, 2, 2, 3, 1, 2, 2, 1, 2, 2, 2, 1, 2, 2,\n",
       "       2, 2, 3, 2, 1, 2, 3, 1, 2, 2, 2, 2, 3, 2, 2, 2, 3, 1, 2, 2, 2, 2,\n",
       "       1, 2, 1, 1, 1, 3, 2, 1, 2, 2, 3, 2, 1, 2, 1, 3, 1, 2, 1, 1, 2, 2,\n",
       "       1, 1, 2, 2, 2, 2, 3, 2, 1, 2, 2, 2, 2, 1, 2, 2, 3, 2, 3, 1, 2, 2,\n",
       "       1, 2, 1, 2, 1, 2, 2, 1, 2, 3, 2, 1, 1, 2, 1, 2, 2, 1, 2, 3, 2, 2,\n",
       "       1, 1, 1, 2, 1, 2, 3, 2, 3, 2, 2, 2, 2, 1, 1, 2, 2, 1, 2, 2, 2, 2,\n",
       "       1, 2, 2, 1, 2, 2, 3, 2, 3, 2, 2, 2, 2, 2, 3, 2, 2, 1, 1, 3, 2, 2,\n",
       "       2, 3, 2, 1, 1, 1, 1, 1, 2, 2, 2, 1, 3, 2, 2, 2, 1, 2, 1, 2, 1, 1,\n",
       "       1, 1, 1, 3, 1, 2, 2, 2, 2, 2, 3, 2, 3, 2, 2, 2, 2, 3, 1, 1, 2, 2,\n",
       "       2, 1, 3, 2, 2, 2, 1, 2, 2, 2, 2, 3, 2, 2, 2, 2, 2, 2, 2, 2, 2, 1,\n",
       "       2, 1, 2, 3, 1, 1, 2, 1, 2, 1, 1, 2, 2, 1, 2, 2, 2, 1, 2, 2, 2, 2,\n",
       "       2, 2, 3, 2, 3, 2, 2, 2, 2, 2, 2, 2, 1, 2, 2, 2, 2, 1, 3, 2, 1, 2,\n",
       "       1, 1, 2, 1, 2, 1, 2, 2, 1, 1, 2, 2, 2, 2, 2, 3, 2, 1, 2, 1, 2, 2,\n",
       "       2, 3, 3, 3, 1, 2, 2, 2, 2, 2, 2, 1, 2, 2, 2, 2, 2, 1, 2, 2, 1, 2,\n",
       "       1, 2, 2, 2, 3, 2, 3])"
      ]
     },
     "execution_count": 54,
     "metadata": {},
     "output_type": "execute_result"
    }
   ],
   "source": [
    "y_test"
   ]
  },
  {
   "cell_type": "code",
   "execution_count": null,
   "id": "42c4582e-1a9e-4ca5-9133-d4ff0bc7ca92",
   "metadata": {
    "id": "42c4582e-1a9e-4ca5-9133-d4ff0bc7ca92",
    "outputId": "e89de9c1-c051-4a9f-b24f-878cfec381fb"
   },
   "outputs": [
    {
     "data": {
      "text/plain": [
       "0.9980506822612085"
      ]
     },
     "execution_count": 55,
     "metadata": {},
     "output_type": "execute_result"
    }
   ],
   "source": [
    "# Measure Accuracy\n",
    "metrics.accuracy_score(y_test,y_pred)"
   ]
  },
  {
   "cell_type": "code",
   "execution_count": null,
   "id": "181bd3c2-6026-4092-ac0b-4a51c928d6b6",
   "metadata": {
    "id": "181bd3c2-6026-4092-ac0b-4a51c928d6b6",
    "outputId": "477ee0bb-907c-4371-cf85-a5400fe46ca9"
   },
   "outputs": [
    {
     "name": "stdout",
     "output_type": "stream",
     "text": [
      "              precision    recall  f1-score   support\n",
      "\n",
      "           1       1.00      1.00      1.00       136\n",
      "           2       1.00      1.00      1.00       311\n",
      "           3       0.99      1.00      0.99        66\n",
      "\n",
      "    accuracy                           1.00       513\n",
      "   macro avg       1.00      1.00      1.00       513\n",
      "weighted avg       1.00      1.00      1.00       513\n",
      "\n"
     ]
    }
   ],
   "source": [
    "print(metrics.classification_report(y_test, y_pred))"
   ]
  },
  {
   "cell_type": "markdown",
   "id": "566afdb7-c26f-46b0-9ae2-0e0ca73ef037",
   "metadata": {
    "id": "566afdb7-c26f-46b0-9ae2-0e0ca73ef037"
   },
   "source": [
    "### **6. Model Deployment**\n",
    "Save the trained model for future use and deploying it in real-world applications."
   ]
  },
  {
   "cell_type": "code",
   "execution_count": null,
   "id": "2f755dff-26ee-407e-8c0b-2a3056d0c1cb",
   "metadata": {
    "id": "2f755dff-26ee-407e-8c0b-2a3056d0c1cb",
    "outputId": "5d97b85e-45af-46ee-82dc-0ee0fcfe0b96"
   },
   "outputs": [
    {
     "name": "stdout",
     "output_type": "stream",
     "text": [
      "#pragma once\n",
      "#include <cstdarg>\n",
      "namespace Eloquent {\n",
      "    namespace ML {\n",
      "        namespace Port {\n",
      "            class DecisionTree {\n",
      "                public:\n",
      "                    /**\n",
      "                    * Predict class for features vector\n",
      "                    */\n",
      "                    int predict(float *x) {\n",
      "                        if (x[1] <= 79.95000076293945) {\n",
      "                            if (x[1] <= 50.0) {\n",
      "                                return 3;\n",
      "                            }\n",
      "\n",
      "                            else {\n",
      "                                return 2;\n",
      "                            }\n",
      "                        }\n",
      "\n",
      "                        else {\n",
      "                            if (x[0] <= 24.049999237060547) {\n",
      "                                return 0;\n",
      "                            }\n",
      "\n",
      "                            else {\n",
      "                                return 1;\n",
      "                            }\n",
      "                        }\n",
      "                    }\n",
      "\n",
      "                protected:\n",
      "                };\n",
      "            }\n",
      "        }\n",
      "    }\n"
     ]
    }
   ],
   "source": [
    "print(port(weather_classifier))"
   ]
  },
  {
   "cell_type": "markdown",
   "id": "ScKF5VgskBQq",
   "metadata": {
    "id": "ScKF5VgskBQq"
   },
   "source": [
    "Now copy the above Decision Tree classifier code and save in any text file with name\n",
    "\n",
    "```\n",
    "DecisionTree.h\n",
    "```\n",
    "\n",
    "Then copy the below arduino code and save it named as\n",
    "\n",
    "```\n",
    "Weather_determining_model.ino\n",
    "```\n"
   ]
  },
  {
   "cell_type": "markdown",
   "id": "q_eDDNaljuW6",
   "metadata": {
    "id": "q_eDDNaljuW6"
   },
   "source": [
    "\n",
    "\n",
    "```\n",
    "#include \"DecisionTree.h\"\n",
    "Eloquent::ML::Port::DecisionTree weatherClassifier;\n",
    "#include <math.h>\n",
    "#include \"DHT.h\"\n",
    "\n",
    "// Variable Declaration\n",
    "float t;\n",
    "float h;\n",
    "float hic;\n",
    "int prediction;\n",
    "\n",
    "#define DHTPIN 4     // Digital pin connected to the DHT sensor\n",
    "#define DHTTYPE DHT11   // DHT 11\n",
    "DHT dht(DHTPIN, DHTTYPE);\n",
    "\n",
    "\n",
    "void setup() {\n",
    "  // put your setup code here, to run once:\n",
    "  Serial.begin(9600);\n",
    "  Serial.print(\"Welcome!\");\n",
    "  delay(10);\n",
    "\n",
    "  dht.begin();\n",
    "}\n",
    "\n",
    "void loop() {\n",
    "  // put your main code here, to run repeatedly:\n",
    "  delay(2000);\n",
    "  // Read humidity\n",
    "  float h = dht.readHumidity();\n",
    "  // Read temperature as Celsius\n",
    "  float t = dht.readTemperature();\n",
    "\n",
    "  // Check if any reads failed and exit early (to try again).\n",
    "  if (isnan(h) || isnan(t)) {\n",
    "    Serial.println(F(\"Failed to read from DHT sensor!\"));\n",
    "    return;\n",
    "  }\n",
    "\n",
    "  // Compute heat index in Celsius (the default)\n",
    "  float hic = calculate_heat_index(t,h);\n",
    "\n",
    "\n",
    "\n",
    "  // Print values of temperature, humidity and heat index to serial monitor\n",
    "  Serial.print(F(\"Humidity: \"));\n",
    "  Serial.print(h);\n",
    "  Serial.print(F(\"%  Temperature: \"));\n",
    "  Serial.print(t);\n",
    "  Serial.print(F(\"°C  Heat index: \"));\n",
    "  Serial.print(hic);\n",
    "  Serial.println(F(\"°C\"));\n",
    "\n",
    "  float input[3] = {t,h,hic};\n",
    "  // Giving input values to predict Function\n",
    "  int prediction = weatherClassifier.predict(input);\n",
    "\n",
    "  // Checking Condition of weather\n",
    "  Serial.print(\"Prediction: \");\n",
    "  // Serial.print(prediction);\n",
    "  if (prediction == 0){\n",
    "    Serial.println(\"Foggy \\U0001F32B\");\n",
    "  }\n",
    "  else if(prediction == 1){\n",
    "    Serial.println(\"Rainy \\U0001F327\");\n",
    "  }\n",
    "  else if(prediction == 2){\n",
    "    Serial.println(\"Cloudy \\u2601️\");\n",
    "  }\n",
    "  else if(prediction == 3){\n",
    "    Serial.println(\"Sunny \\u2600\");\n",
    "  }\n",
    "\n",
    "  Serial.println();\n",
    "\n",
    "  delay(1000);\n",
    "}\n",
    "\n",
    "double calculate_heat_index(double temperature, double humidity) {\n",
    "    // Coefficients for the heat index formula\n",
    "    double c1 = -42.379;\n",
    "    double c2 = 2.04901523;\n",
    "    double c3 = 10.14333127;\n",
    "    double c4 = -0.22475541;\n",
    "    double c5 = -6.83783e-3;\n",
    "    double c6 = -5.481717e-2;\n",
    "    double c7 = 1.22874e-3;\n",
    "    double c8 = 8.5282e-4;\n",
    "    double c9 = -1.99e-6;\n",
    "\n",
    "    // Calculate the heat index\n",
    "    double heat_index = (c1 + (c2 * temperature) + (c3 * humidity) + (c4 * temperature * humidity) +\n",
    "                         (c5 * pow(temperature, 2)) + (c6 * pow(humidity, 2)) +\n",
    "                         (c7 * pow(temperature, 2) * humidity) + (c8 * temperature * pow(humidity, 2)) +\n",
    "                         (c9 * pow(temperature, 2) * pow(humidity, 2)));\n",
    "\n",
    "    // Adjustments for specific conditions\n",
    "    if (humidity < 13 && (80 <= temperature && temperature <= 112)) {\n",
    "        double adjustment = ((13 - humidity) / 4.0) * sqrt((17 - fabs(temperature - 95.0)) / 17);\n",
    "        heat_index -= adjustment;\n",
    "    } else if (humidity > 85 && (80 <= temperature && temperature <= 87)) {\n",
    "        double adjustment = ((humidity - 85) / 10.0) * ((87 - temperature) / 5.0);\n",
    "        heat_index += adjustment;\n",
    "    }\n",
    "\n",
    "    return heat_index;\n",
    "}\n",
    "\n",
    "\n",
    "```\n",
    "\n"
   ]
  },
  {
   "cell_type": "code",
   "execution_count": null,
   "id": "3ab7a75f-a119-40b0-a116-4c8e8a7d9d44",
   "metadata": {
    "colab": {
     "base_uri": "https://localhost:8080/",
     "height": 386
    },
    "executionInfo": {
     "elapsed": 9,
     "status": "error",
     "timestamp": 1718088026077,
     "user": {
      "displayName": "PRATIK NEMANE",
      "userId": "11241874782334487163"
     },
     "user_tz": -330
    },
    "id": "3ab7a75f-a119-40b0-a116-4c8e8a7d9d44",
    "outputId": "fcc205c8-214b-493b-ab55-ae4780b08511"
   },
   "outputs": [
    {
     "ename": "ModuleNotFoundError",
     "errorDetails": {
      "actions": [
       {
        "action": "open_url",
        "actionText": "Open Examples",
        "url": "/notebooks/snippets/importing_libraries.ipynb"
       }
      ]
     },
     "evalue": "No module named 'serial'",
     "output_type": "error",
     "traceback": [
      "\u001b[0;31m---------------------------------------------------------------------------\u001b[0m",
      "\u001b[0;31mModuleNotFoundError\u001b[0m                       Traceback (most recent call last)",
      "\u001b[0;32m<ipython-input-1-eb4d7e195f35>\u001b[0m in \u001b[0;36m<cell line: 1>\u001b[0;34m()\u001b[0m\n\u001b[0;32m----> 1\u001b[0;31m \u001b[0;32mimport\u001b[0m \u001b[0mserial\u001b[0m\u001b[0;34m\u001b[0m\u001b[0;34m\u001b[0m\u001b[0m\n\u001b[0m\u001b[1;32m      2\u001b[0m \u001b[0;32mimport\u001b[0m \u001b[0mtime\u001b[0m\u001b[0;34m\u001b[0m\u001b[0;34m\u001b[0m\u001b[0m\n\u001b[1;32m      3\u001b[0m \u001b[0;34m\u001b[0m\u001b[0m\n\u001b[1;32m      4\u001b[0m \u001b[0;31m# Replace 'COM10' with the appropriate serial port for your system\u001b[0m\u001b[0;34m\u001b[0m\u001b[0;34m\u001b[0m\u001b[0m\n\u001b[1;32m      5\u001b[0m \u001b[0mSERIAL_PORT\u001b[0m \u001b[0;34m=\u001b[0m \u001b[0;34m'/dev/ttyUSB00'\u001b[0m\u001b[0;34m\u001b[0m\u001b[0;34m\u001b[0m\u001b[0m\n",
      "\u001b[0;31mModuleNotFoundError\u001b[0m: No module named 'serial'",
      "",
      "\u001b[0;31m---------------------------------------------------------------------------\u001b[0;32m\nNOTE: If your import is failing due to a missing package, you can\nmanually install dependencies using either !pip or !apt.\n\nTo view examples of installing some common dependencies, click the\n\"Open Examples\" button below.\n\u001b[0;31m---------------------------------------------------------------------------\u001b[0m\n"
     ]
    }
   ],
   "source": [
    "import serial\n",
    "import time\n",
    "\n",
    "# Replace 'COM10' with the appropriate serial port for your system\n",
    "SERIAL_PORT = '/dev/ttyUSB00'\n",
    "BAUD_RATE = 9600  # the baud rate set on your ESP32\n",
    "\n",
    "def read_from_esp32():\n",
    "    # Open the serial connection\n",
    "    with serial.Serial(SERIAL_PORT, BAUD_RATE, timeout=1) as ser:\n",
    "        # Give some time for the serial connection to establish\n",
    "        time.sleep(2)\n",
    "\n",
    "        # Clear any existing input in the buffer\n",
    "        ser.flushInput()\n",
    "\n",
    "        try:\n",
    "            while True:\n",
    "                # Read data from the ESP32\n",
    "                if ser.in_waiting > 0:\n",
    "                    line = ser.readline().decode('utf-8').rstrip()\n",
    "                    print(f\"{line}\")\n",
    "                time.sleep(0.1)\n",
    "\n",
    "        except KeyboardInterrupt:\n",
    "            print(\"Serial read stopped.\")\n",
    "\n",
    "if __name__ == \"__main__\":\n",
    "    read_from_esp32()\n"
   ]
  },
  {
   "cell_type": "markdown",
   "id": "ecTNmC1xmal_",
   "metadata": {
    "id": "ecTNmC1xmal_"
   },
   "source": [
    "Now move these both files in same folder then open the \"Weather_determining_model.ino\" file in your arduino IDE and upload the code to your Esp32 microcontroller.\n",
    "\n",
    "Before uploading the code to the board, do verify that the \"DecisionTree.h\" file is also opened in the same arduino IDE beside the .ino file.\n",
    "\n",
    "If any error occurs then open the \"DecisionTree.h\" file and comment the line containing this code\n",
    "\n",
    "```\n",
    "#include <cstdarg> // comment this line\n",
    "```\n",
    "\n",
    "\n"
   ]
  },
  {
   "cell_type": "markdown",
   "id": "8d2d1a42-aca1-4369-867d-8203479aad9b",
   "metadata": {
    "id": "8d2d1a42-aca1-4369-867d-8203479aad9b"
   },
   "source": [
    "# Happy Learning"
   ]
  }
 ],
 "metadata": {
  "colab": {
   "provenance": []
  },
  "kernelspec": {
   "display_name": "Python 3 (ipykernel)",
   "language": "python",
   "name": "python3"
  },
  "language_info": {
   "codemirror_mode": {
    "name": "ipython",
    "version": 3
   },
   "file_extension": ".py",
   "mimetype": "text/x-python",
   "name": "python",
   "nbconvert_exporter": "python",
   "pygments_lexer": "ipython3",
   "version": "3.12.4"
  }
 },
 "nbformat": 4,
 "nbformat_minor": 5
}
